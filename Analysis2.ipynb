{
  "nbformat": 4,
  "nbformat_minor": 0,
  "metadata": {
    "colab": {
      "name": "Analysis2.ipynb",
      "provenance": [],
      "collapsed_sections": []
    },
    "kernelspec": {
      "name": "python3",
      "display_name": "Python 3"
    },
    "language_info": {
      "name": "python"
    }
  },
  "cells": [
    {
      "cell_type": "markdown",
      "source": [
        "**Analysis 2**"
      ],
      "metadata": {
        "id": "dLcv6rSjWxmb"
      }
    },
    {
      "cell_type": "code",
      "execution_count": 3,
      "metadata": {
        "id": "dv7HDQ3lWuqL"
      },
      "outputs": [],
      "source": [
        "# imports\n",
        "import numpy as np\n",
        "import pandas as pd\n",
        "pd.set_option('display.max_columns', 40)\n",
        "import matplotlib.pyplot as plt\n",
        "import matplotlib.gridspec as gridspec\n",
        "import seaborn as sns\n",
        "%matplotlib inline\n",
        "sns.set_style('darkgrid')\n",
        "import plotly.express as px\n",
        "from sklearn.cluster import KMeans\n",
        "import warnings\n",
        "warnings.filterwarnings('ignore');"
      ]
    },
    {
      "cell_type": "code",
      "source": [
        "df = pd.read_csv(\"CARSSSS.csv\")\n",
        "# to display the top 5 rows\n",
        "df.head(5)\n"
      ],
      "metadata": {
        "colab": {
          "base_uri": "https://localhost:8080/",
          "height": 444
        },
        "id": "sXwVpUN-XMsG",
        "outputId": "d3bf102a-93de-473e-edd9-5d4d241e4bdd"
      },
      "execution_count": 4,
      "outputs": [
        {
          "output_type": "execute_result",
          "data": {
            "text/plain": [
              "   Make      Model  Variant    Price  Displacement  Cylinders  \\\n",
              "0  Tata  Nano Genx       Xt  292,667         624.0        2.0   \n",
              "1  Tata  Nano Genx       Xe  236,447         624.0        2.0   \n",
              "2  Tata  Nano Genx  Emax Xm  296,661         624.0        2.0   \n",
              "3  Tata  Nano Genx      Xta  334,768         624.0        2.0   \n",
              "4  Tata  Nano Genx       Xm  272,223         624.0        2.0   \n",
              "\n",
              "               Drivetrain Fuel_System  Fuel_Tank_Capacity Fuel_Type  Height  \\\n",
              "0  RWD (Rear Wheel Drive)   Injection                24.0    Petrol  1652.0   \n",
              "1  RWD (Rear Wheel Drive)   Injection                24.0    Petrol  1652.0   \n",
              "2  RWD (Rear Wheel Drive)   Injection                15.0       CNG  1652.0   \n",
              "3  RWD (Rear Wheel Drive)   Injection                24.0    Petrol  1652.0   \n",
              "4  RWD (Rear Wheel Drive)   Injection                24.0    Petrol  1652.0   \n",
              "\n",
              "   Length   Width  Doors City_Mileage  ARAI_Certified_Mileage  Power  Torque  \\\n",
              "0  3164.0  1750.0    5.0         23.6                    23.6   38.0    51.0   \n",
              "1  3164.0  1750.0    5.0         23.6                    23.6   38.0    51.0   \n",
              "2  3164.0  1750.0    4.0          NaN                     NaN   38.0    51.0   \n",
              "3  3164.0  1750.0    5.0         23.6                    21.9   38.0    51.0   \n",
              "4  3164.0  1750.0    5.0         23.6                    23.6   38.0    51.0   \n",
              "\n",
              "        Type  Wheelbase  \n",
              "0     Manual     2230.0  \n",
              "1     Manual     2230.0  \n",
              "2     Manual     2230.0  \n",
              "3  Automatic     2230.0  \n",
              "4     Manual     2230.0  "
            ],
            "text/html": [
              "\n",
              "  <div id=\"df-b7eed4d4-5ba8-4b7e-b031-31aa02292b20\">\n",
              "    <div class=\"colab-df-container\">\n",
              "      <div>\n",
              "<style scoped>\n",
              "    .dataframe tbody tr th:only-of-type {\n",
              "        vertical-align: middle;\n",
              "    }\n",
              "\n",
              "    .dataframe tbody tr th {\n",
              "        vertical-align: top;\n",
              "    }\n",
              "\n",
              "    .dataframe thead th {\n",
              "        text-align: right;\n",
              "    }\n",
              "</style>\n",
              "<table border=\"1\" class=\"dataframe\">\n",
              "  <thead>\n",
              "    <tr style=\"text-align: right;\">\n",
              "      <th></th>\n",
              "      <th>Make</th>\n",
              "      <th>Model</th>\n",
              "      <th>Variant</th>\n",
              "      <th>Price</th>\n",
              "      <th>Displacement</th>\n",
              "      <th>Cylinders</th>\n",
              "      <th>Drivetrain</th>\n",
              "      <th>Fuel_System</th>\n",
              "      <th>Fuel_Tank_Capacity</th>\n",
              "      <th>Fuel_Type</th>\n",
              "      <th>Height</th>\n",
              "      <th>Length</th>\n",
              "      <th>Width</th>\n",
              "      <th>Doors</th>\n",
              "      <th>City_Mileage</th>\n",
              "      <th>ARAI_Certified_Mileage</th>\n",
              "      <th>Power</th>\n",
              "      <th>Torque</th>\n",
              "      <th>Type</th>\n",
              "      <th>Wheelbase</th>\n",
              "    </tr>\n",
              "  </thead>\n",
              "  <tbody>\n",
              "    <tr>\n",
              "      <th>0</th>\n",
              "      <td>Tata</td>\n",
              "      <td>Nano Genx</td>\n",
              "      <td>Xt</td>\n",
              "      <td>292,667</td>\n",
              "      <td>624.0</td>\n",
              "      <td>2.0</td>\n",
              "      <td>RWD (Rear Wheel Drive)</td>\n",
              "      <td>Injection</td>\n",
              "      <td>24.0</td>\n",
              "      <td>Petrol</td>\n",
              "      <td>1652.0</td>\n",
              "      <td>3164.0</td>\n",
              "      <td>1750.0</td>\n",
              "      <td>5.0</td>\n",
              "      <td>23.6</td>\n",
              "      <td>23.6</td>\n",
              "      <td>38.0</td>\n",
              "      <td>51.0</td>\n",
              "      <td>Manual</td>\n",
              "      <td>2230.0</td>\n",
              "    </tr>\n",
              "    <tr>\n",
              "      <th>1</th>\n",
              "      <td>Tata</td>\n",
              "      <td>Nano Genx</td>\n",
              "      <td>Xe</td>\n",
              "      <td>236,447</td>\n",
              "      <td>624.0</td>\n",
              "      <td>2.0</td>\n",
              "      <td>RWD (Rear Wheel Drive)</td>\n",
              "      <td>Injection</td>\n",
              "      <td>24.0</td>\n",
              "      <td>Petrol</td>\n",
              "      <td>1652.0</td>\n",
              "      <td>3164.0</td>\n",
              "      <td>1750.0</td>\n",
              "      <td>5.0</td>\n",
              "      <td>23.6</td>\n",
              "      <td>23.6</td>\n",
              "      <td>38.0</td>\n",
              "      <td>51.0</td>\n",
              "      <td>Manual</td>\n",
              "      <td>2230.0</td>\n",
              "    </tr>\n",
              "    <tr>\n",
              "      <th>2</th>\n",
              "      <td>Tata</td>\n",
              "      <td>Nano Genx</td>\n",
              "      <td>Emax Xm</td>\n",
              "      <td>296,661</td>\n",
              "      <td>624.0</td>\n",
              "      <td>2.0</td>\n",
              "      <td>RWD (Rear Wheel Drive)</td>\n",
              "      <td>Injection</td>\n",
              "      <td>15.0</td>\n",
              "      <td>CNG</td>\n",
              "      <td>1652.0</td>\n",
              "      <td>3164.0</td>\n",
              "      <td>1750.0</td>\n",
              "      <td>4.0</td>\n",
              "      <td>NaN</td>\n",
              "      <td>NaN</td>\n",
              "      <td>38.0</td>\n",
              "      <td>51.0</td>\n",
              "      <td>Manual</td>\n",
              "      <td>2230.0</td>\n",
              "    </tr>\n",
              "    <tr>\n",
              "      <th>3</th>\n",
              "      <td>Tata</td>\n",
              "      <td>Nano Genx</td>\n",
              "      <td>Xta</td>\n",
              "      <td>334,768</td>\n",
              "      <td>624.0</td>\n",
              "      <td>2.0</td>\n",
              "      <td>RWD (Rear Wheel Drive)</td>\n",
              "      <td>Injection</td>\n",
              "      <td>24.0</td>\n",
              "      <td>Petrol</td>\n",
              "      <td>1652.0</td>\n",
              "      <td>3164.0</td>\n",
              "      <td>1750.0</td>\n",
              "      <td>5.0</td>\n",
              "      <td>23.6</td>\n",
              "      <td>21.9</td>\n",
              "      <td>38.0</td>\n",
              "      <td>51.0</td>\n",
              "      <td>Automatic</td>\n",
              "      <td>2230.0</td>\n",
              "    </tr>\n",
              "    <tr>\n",
              "      <th>4</th>\n",
              "      <td>Tata</td>\n",
              "      <td>Nano Genx</td>\n",
              "      <td>Xm</td>\n",
              "      <td>272,223</td>\n",
              "      <td>624.0</td>\n",
              "      <td>2.0</td>\n",
              "      <td>RWD (Rear Wheel Drive)</td>\n",
              "      <td>Injection</td>\n",
              "      <td>24.0</td>\n",
              "      <td>Petrol</td>\n",
              "      <td>1652.0</td>\n",
              "      <td>3164.0</td>\n",
              "      <td>1750.0</td>\n",
              "      <td>5.0</td>\n",
              "      <td>23.6</td>\n",
              "      <td>23.6</td>\n",
              "      <td>38.0</td>\n",
              "      <td>51.0</td>\n",
              "      <td>Manual</td>\n",
              "      <td>2230.0</td>\n",
              "    </tr>\n",
              "  </tbody>\n",
              "</table>\n",
              "</div>\n",
              "      <button class=\"colab-df-convert\" onclick=\"convertToInteractive('df-b7eed4d4-5ba8-4b7e-b031-31aa02292b20')\"\n",
              "              title=\"Convert this dataframe to an interactive table.\"\n",
              "              style=\"display:none;\">\n",
              "        \n",
              "  <svg xmlns=\"http://www.w3.org/2000/svg\" height=\"24px\"viewBox=\"0 0 24 24\"\n",
              "       width=\"24px\">\n",
              "    <path d=\"M0 0h24v24H0V0z\" fill=\"none\"/>\n",
              "    <path d=\"M18.56 5.44l.94 2.06.94-2.06 2.06-.94-2.06-.94-.94-2.06-.94 2.06-2.06.94zm-11 1L8.5 8.5l.94-2.06 2.06-.94-2.06-.94L8.5 2.5l-.94 2.06-2.06.94zm10 10l.94 2.06.94-2.06 2.06-.94-2.06-.94-.94-2.06-.94 2.06-2.06.94z\"/><path d=\"M17.41 7.96l-1.37-1.37c-.4-.4-.92-.59-1.43-.59-.52 0-1.04.2-1.43.59L10.3 9.45l-7.72 7.72c-.78.78-.78 2.05 0 2.83L4 21.41c.39.39.9.59 1.41.59.51 0 1.02-.2 1.41-.59l7.78-7.78 2.81-2.81c.8-.78.8-2.07 0-2.86zM5.41 20L4 18.59l7.72-7.72 1.47 1.35L5.41 20z\"/>\n",
              "  </svg>\n",
              "      </button>\n",
              "      \n",
              "  <style>\n",
              "    .colab-df-container {\n",
              "      display:flex;\n",
              "      flex-wrap:wrap;\n",
              "      gap: 12px;\n",
              "    }\n",
              "\n",
              "    .colab-df-convert {\n",
              "      background-color: #E8F0FE;\n",
              "      border: none;\n",
              "      border-radius: 50%;\n",
              "      cursor: pointer;\n",
              "      display: none;\n",
              "      fill: #1967D2;\n",
              "      height: 32px;\n",
              "      padding: 0 0 0 0;\n",
              "      width: 32px;\n",
              "    }\n",
              "\n",
              "    .colab-df-convert:hover {\n",
              "      background-color: #E2EBFA;\n",
              "      box-shadow: 0px 1px 2px rgba(60, 64, 67, 0.3), 0px 1px 3px 1px rgba(60, 64, 67, 0.15);\n",
              "      fill: #174EA6;\n",
              "    }\n",
              "\n",
              "    [theme=dark] .colab-df-convert {\n",
              "      background-color: #3B4455;\n",
              "      fill: #D2E3FC;\n",
              "    }\n",
              "\n",
              "    [theme=dark] .colab-df-convert:hover {\n",
              "      background-color: #434B5C;\n",
              "      box-shadow: 0px 1px 3px 1px rgba(0, 0, 0, 0.15);\n",
              "      filter: drop-shadow(0px 1px 2px rgba(0, 0, 0, 0.3));\n",
              "      fill: #FFFFFF;\n",
              "    }\n",
              "  </style>\n",
              "\n",
              "      <script>\n",
              "        const buttonEl =\n",
              "          document.querySelector('#df-b7eed4d4-5ba8-4b7e-b031-31aa02292b20 button.colab-df-convert');\n",
              "        buttonEl.style.display =\n",
              "          google.colab.kernel.accessAllowed ? 'block' : 'none';\n",
              "\n",
              "        async function convertToInteractive(key) {\n",
              "          const element = document.querySelector('#df-b7eed4d4-5ba8-4b7e-b031-31aa02292b20');\n",
              "          const dataTable =\n",
              "            await google.colab.kernel.invokeFunction('convertToInteractive',\n",
              "                                                     [key], {});\n",
              "          if (!dataTable) return;\n",
              "\n",
              "          const docLinkHtml = 'Like what you see? Visit the ' +\n",
              "            '<a target=\"_blank\" href=https://colab.research.google.com/notebooks/data_table.ipynb>data table notebook</a>'\n",
              "            + ' to learn more about interactive tables.';\n",
              "          element.innerHTML = '';\n",
              "          dataTable['output_type'] = 'display_data';\n",
              "          await google.colab.output.renderOutput(dataTable, element);\n",
              "          const docLink = document.createElement('div');\n",
              "          docLink.innerHTML = docLinkHtml;\n",
              "          element.appendChild(docLink);\n",
              "        }\n",
              "      </script>\n",
              "    </div>\n",
              "  </div>\n",
              "  "
            ]
          },
          "metadata": {},
          "execution_count": 4
        }
      ]
    },
    {
      "cell_type": "code",
      "source": [
        "df.tail(5)"
      ],
      "metadata": {
        "colab": {
          "base_uri": "https://localhost:8080/",
          "height": 444
        },
        "id": "VIZs-15GXaa-",
        "outputId": "ccd06a24-48cd-4bb3-abe6-642e6d29c15e"
      },
      "execution_count": 5,
      "outputs": [
        {
          "output_type": "execute_result",
          "data": {
            "text/plain": [
              "            Make    Model        Variant      Price  Displacement  Cylinders  \\\n",
              "1271       Honda     City   Vx Mt Diesel  1,302,000        1498.0        4.0   \n",
              "1272       Honda     City   Zx Mt Diesel  1,421,000        1498.0        4.0   \n",
              "1273       Honda     City  Zx Cvt Petrol  1,431,000        1497.0        4.0   \n",
              "1274       Honda     City   V Cvt Petrol  1,201,000        1497.0        4.0   \n",
              "1275  Mitsubishi  Montero         3.2 At  6,862,560        3200.0        4.0   \n",
              "\n",
              "                   Drivetrain Fuel_System  Fuel_Tank_Capacity Fuel_Type  \\\n",
              "1271  FWD (Front Wheel Drive)   Injection                40.0    Diesel   \n",
              "1272  FWD (Front Wheel Drive)   Injection                40.0    Diesel   \n",
              "1273  FWD (Front Wheel Drive)   Injection                40.0    Petrol   \n",
              "1274  FWD (Front Wheel Drive)   Injection                40.0    Petrol   \n",
              "1275    AWD (All Wheel Drive)   Injection                88.0    Diesel   \n",
              "\n",
              "      Height  Length   Width  Doors City_Mileage  ARAI_Certified_Mileage  \\\n",
              "1271  1495.0  4440.0  1695.0    4.0         22.6                   25.10   \n",
              "1272  1495.0  4440.0  1695.0    4.0         22.6                   25.10   \n",
              "1273  1495.0  4440.0  1695.0    4.0           18                   22.60   \n",
              "1274  1495.0  4440.0  1695.0    4.0         14.3                   17.80   \n",
              "1275  1900.0  4900.0  1875.0    5.0         8.25                   11.56   \n",
              "\n",
              "      Power  Torque       Type  Wheelbase  \n",
              "1271  100.0   200.0     Manual     2600.0  \n",
              "1272  100.0   200.0     Manual     2600.0  \n",
              "1273  119.0   145.0  Automatic     2600.0  \n",
              "1274  119.0   145.0  Automatic     2600.0  \n",
              "1275  202.0   441.0  Automatic     2780.0  "
            ],
            "text/html": [
              "\n",
              "  <div id=\"df-d5d3b542-d00a-4ab2-987c-1ebd5b449807\">\n",
              "    <div class=\"colab-df-container\">\n",
              "      <div>\n",
              "<style scoped>\n",
              "    .dataframe tbody tr th:only-of-type {\n",
              "        vertical-align: middle;\n",
              "    }\n",
              "\n",
              "    .dataframe tbody tr th {\n",
              "        vertical-align: top;\n",
              "    }\n",
              "\n",
              "    .dataframe thead th {\n",
              "        text-align: right;\n",
              "    }\n",
              "</style>\n",
              "<table border=\"1\" class=\"dataframe\">\n",
              "  <thead>\n",
              "    <tr style=\"text-align: right;\">\n",
              "      <th></th>\n",
              "      <th>Make</th>\n",
              "      <th>Model</th>\n",
              "      <th>Variant</th>\n",
              "      <th>Price</th>\n",
              "      <th>Displacement</th>\n",
              "      <th>Cylinders</th>\n",
              "      <th>Drivetrain</th>\n",
              "      <th>Fuel_System</th>\n",
              "      <th>Fuel_Tank_Capacity</th>\n",
              "      <th>Fuel_Type</th>\n",
              "      <th>Height</th>\n",
              "      <th>Length</th>\n",
              "      <th>Width</th>\n",
              "      <th>Doors</th>\n",
              "      <th>City_Mileage</th>\n",
              "      <th>ARAI_Certified_Mileage</th>\n",
              "      <th>Power</th>\n",
              "      <th>Torque</th>\n",
              "      <th>Type</th>\n",
              "      <th>Wheelbase</th>\n",
              "    </tr>\n",
              "  </thead>\n",
              "  <tbody>\n",
              "    <tr>\n",
              "      <th>1271</th>\n",
              "      <td>Honda</td>\n",
              "      <td>City</td>\n",
              "      <td>Vx Mt Diesel</td>\n",
              "      <td>1,302,000</td>\n",
              "      <td>1498.0</td>\n",
              "      <td>4.0</td>\n",
              "      <td>FWD (Front Wheel Drive)</td>\n",
              "      <td>Injection</td>\n",
              "      <td>40.0</td>\n",
              "      <td>Diesel</td>\n",
              "      <td>1495.0</td>\n",
              "      <td>4440.0</td>\n",
              "      <td>1695.0</td>\n",
              "      <td>4.0</td>\n",
              "      <td>22.6</td>\n",
              "      <td>25.10</td>\n",
              "      <td>100.0</td>\n",
              "      <td>200.0</td>\n",
              "      <td>Manual</td>\n",
              "      <td>2600.0</td>\n",
              "    </tr>\n",
              "    <tr>\n",
              "      <th>1272</th>\n",
              "      <td>Honda</td>\n",
              "      <td>City</td>\n",
              "      <td>Zx Mt Diesel</td>\n",
              "      <td>1,421,000</td>\n",
              "      <td>1498.0</td>\n",
              "      <td>4.0</td>\n",
              "      <td>FWD (Front Wheel Drive)</td>\n",
              "      <td>Injection</td>\n",
              "      <td>40.0</td>\n",
              "      <td>Diesel</td>\n",
              "      <td>1495.0</td>\n",
              "      <td>4440.0</td>\n",
              "      <td>1695.0</td>\n",
              "      <td>4.0</td>\n",
              "      <td>22.6</td>\n",
              "      <td>25.10</td>\n",
              "      <td>100.0</td>\n",
              "      <td>200.0</td>\n",
              "      <td>Manual</td>\n",
              "      <td>2600.0</td>\n",
              "    </tr>\n",
              "    <tr>\n",
              "      <th>1273</th>\n",
              "      <td>Honda</td>\n",
              "      <td>City</td>\n",
              "      <td>Zx Cvt Petrol</td>\n",
              "      <td>1,431,000</td>\n",
              "      <td>1497.0</td>\n",
              "      <td>4.0</td>\n",
              "      <td>FWD (Front Wheel Drive)</td>\n",
              "      <td>Injection</td>\n",
              "      <td>40.0</td>\n",
              "      <td>Petrol</td>\n",
              "      <td>1495.0</td>\n",
              "      <td>4440.0</td>\n",
              "      <td>1695.0</td>\n",
              "      <td>4.0</td>\n",
              "      <td>18</td>\n",
              "      <td>22.60</td>\n",
              "      <td>119.0</td>\n",
              "      <td>145.0</td>\n",
              "      <td>Automatic</td>\n",
              "      <td>2600.0</td>\n",
              "    </tr>\n",
              "    <tr>\n",
              "      <th>1274</th>\n",
              "      <td>Honda</td>\n",
              "      <td>City</td>\n",
              "      <td>V Cvt Petrol</td>\n",
              "      <td>1,201,000</td>\n",
              "      <td>1497.0</td>\n",
              "      <td>4.0</td>\n",
              "      <td>FWD (Front Wheel Drive)</td>\n",
              "      <td>Injection</td>\n",
              "      <td>40.0</td>\n",
              "      <td>Petrol</td>\n",
              "      <td>1495.0</td>\n",
              "      <td>4440.0</td>\n",
              "      <td>1695.0</td>\n",
              "      <td>4.0</td>\n",
              "      <td>14.3</td>\n",
              "      <td>17.80</td>\n",
              "      <td>119.0</td>\n",
              "      <td>145.0</td>\n",
              "      <td>Automatic</td>\n",
              "      <td>2600.0</td>\n",
              "    </tr>\n",
              "    <tr>\n",
              "      <th>1275</th>\n",
              "      <td>Mitsubishi</td>\n",
              "      <td>Montero</td>\n",
              "      <td>3.2 At</td>\n",
              "      <td>6,862,560</td>\n",
              "      <td>3200.0</td>\n",
              "      <td>4.0</td>\n",
              "      <td>AWD (All Wheel Drive)</td>\n",
              "      <td>Injection</td>\n",
              "      <td>88.0</td>\n",
              "      <td>Diesel</td>\n",
              "      <td>1900.0</td>\n",
              "      <td>4900.0</td>\n",
              "      <td>1875.0</td>\n",
              "      <td>5.0</td>\n",
              "      <td>8.25</td>\n",
              "      <td>11.56</td>\n",
              "      <td>202.0</td>\n",
              "      <td>441.0</td>\n",
              "      <td>Automatic</td>\n",
              "      <td>2780.0</td>\n",
              "    </tr>\n",
              "  </tbody>\n",
              "</table>\n",
              "</div>\n",
              "      <button class=\"colab-df-convert\" onclick=\"convertToInteractive('df-d5d3b542-d00a-4ab2-987c-1ebd5b449807')\"\n",
              "              title=\"Convert this dataframe to an interactive table.\"\n",
              "              style=\"display:none;\">\n",
              "        \n",
              "  <svg xmlns=\"http://www.w3.org/2000/svg\" height=\"24px\"viewBox=\"0 0 24 24\"\n",
              "       width=\"24px\">\n",
              "    <path d=\"M0 0h24v24H0V0z\" fill=\"none\"/>\n",
              "    <path d=\"M18.56 5.44l.94 2.06.94-2.06 2.06-.94-2.06-.94-.94-2.06-.94 2.06-2.06.94zm-11 1L8.5 8.5l.94-2.06 2.06-.94-2.06-.94L8.5 2.5l-.94 2.06-2.06.94zm10 10l.94 2.06.94-2.06 2.06-.94-2.06-.94-.94-2.06-.94 2.06-2.06.94z\"/><path d=\"M17.41 7.96l-1.37-1.37c-.4-.4-.92-.59-1.43-.59-.52 0-1.04.2-1.43.59L10.3 9.45l-7.72 7.72c-.78.78-.78 2.05 0 2.83L4 21.41c.39.39.9.59 1.41.59.51 0 1.02-.2 1.41-.59l7.78-7.78 2.81-2.81c.8-.78.8-2.07 0-2.86zM5.41 20L4 18.59l7.72-7.72 1.47 1.35L5.41 20z\"/>\n",
              "  </svg>\n",
              "      </button>\n",
              "      \n",
              "  <style>\n",
              "    .colab-df-container {\n",
              "      display:flex;\n",
              "      flex-wrap:wrap;\n",
              "      gap: 12px;\n",
              "    }\n",
              "\n",
              "    .colab-df-convert {\n",
              "      background-color: #E8F0FE;\n",
              "      border: none;\n",
              "      border-radius: 50%;\n",
              "      cursor: pointer;\n",
              "      display: none;\n",
              "      fill: #1967D2;\n",
              "      height: 32px;\n",
              "      padding: 0 0 0 0;\n",
              "      width: 32px;\n",
              "    }\n",
              "\n",
              "    .colab-df-convert:hover {\n",
              "      background-color: #E2EBFA;\n",
              "      box-shadow: 0px 1px 2px rgba(60, 64, 67, 0.3), 0px 1px 3px 1px rgba(60, 64, 67, 0.15);\n",
              "      fill: #174EA6;\n",
              "    }\n",
              "\n",
              "    [theme=dark] .colab-df-convert {\n",
              "      background-color: #3B4455;\n",
              "      fill: #D2E3FC;\n",
              "    }\n",
              "\n",
              "    [theme=dark] .colab-df-convert:hover {\n",
              "      background-color: #434B5C;\n",
              "      box-shadow: 0px 1px 3px 1px rgba(0, 0, 0, 0.15);\n",
              "      filter: drop-shadow(0px 1px 2px rgba(0, 0, 0, 0.3));\n",
              "      fill: #FFFFFF;\n",
              "    }\n",
              "  </style>\n",
              "\n",
              "      <script>\n",
              "        const buttonEl =\n",
              "          document.querySelector('#df-d5d3b542-d00a-4ab2-987c-1ebd5b449807 button.colab-df-convert');\n",
              "        buttonEl.style.display =\n",
              "          google.colab.kernel.accessAllowed ? 'block' : 'none';\n",
              "\n",
              "        async function convertToInteractive(key) {\n",
              "          const element = document.querySelector('#df-d5d3b542-d00a-4ab2-987c-1ebd5b449807');\n",
              "          const dataTable =\n",
              "            await google.colab.kernel.invokeFunction('convertToInteractive',\n",
              "                                                     [key], {});\n",
              "          if (!dataTable) return;\n",
              "\n",
              "          const docLinkHtml = 'Like what you see? Visit the ' +\n",
              "            '<a target=\"_blank\" href=https://colab.research.google.com/notebooks/data_table.ipynb>data table notebook</a>'\n",
              "            + ' to learn more about interactive tables.';\n",
              "          element.innerHTML = '';\n",
              "          dataTable['output_type'] = 'display_data';\n",
              "          await google.colab.output.renderOutput(dataTable, element);\n",
              "          const docLink = document.createElement('div');\n",
              "          docLink.innerHTML = docLinkHtml;\n",
              "          element.appendChild(docLink);\n",
              "        }\n",
              "      </script>\n",
              "    </div>\n",
              "  </div>\n",
              "  "
            ]
          },
          "metadata": {},
          "execution_count": 5
        }
      ]
    },
    {
      "cell_type": "markdown",
      "source": [
        "Checking the type of data"
      ],
      "metadata": {
        "id": "jTDt1S6Rbnxd"
      }
    },
    {
      "cell_type": "code",
      "source": [
        "df.dtypes"
      ],
      "metadata": {
        "colab": {
          "base_uri": "https://localhost:8080/"
        },
        "id": "2PG_t-0-boRu",
        "outputId": "27df90b5-b66c-4f16-e84a-5ffac20cf258"
      },
      "execution_count": 6,
      "outputs": [
        {
          "output_type": "execute_result",
          "data": {
            "text/plain": [
              "Make                       object\n",
              "Model                      object\n",
              "Variant                    object\n",
              "Price                      object\n",
              "Displacement              float64\n",
              "Cylinders                 float64\n",
              "Drivetrain                 object\n",
              "Fuel_System                object\n",
              "Fuel_Tank_Capacity        float64\n",
              "Fuel_Type                  object\n",
              "Height                    float64\n",
              "Length                    float64\n",
              "Width                     float64\n",
              "Doors                     float64\n",
              "City_Mileage               object\n",
              "ARAI_Certified_Mileage    float64\n",
              "Power                     float64\n",
              "Torque                    float64\n",
              "Type                       object\n",
              "Wheelbase                 float64\n",
              "dtype: object"
            ]
          },
          "metadata": {},
          "execution_count": 6
        }
      ]
    },
    {
      "cell_type": "markdown",
      "source": [
        "Dropping the duplicate rows"
      ],
      "metadata": {
        "id": "IWt2EBCCbz1U"
      }
    },
    {
      "cell_type": "code",
      "source": [
        "duplicate_rows_df = df[df.duplicated()]\n",
        "print(\"number of duplicate rows: \", duplicate_rows_df.shape)"
      ],
      "metadata": {
        "colab": {
          "base_uri": "https://localhost:8080/"
        },
        "id": "vDL797y8b0cN",
        "outputId": "6ad419c9-6dd0-4be4-f0ee-aa04ae1e190a"
      },
      "execution_count": 7,
      "outputs": [
        {
          "output_type": "stream",
          "name": "stdout",
          "text": [
            "number of duplicate rows:  (9, 20)\n"
          ]
        }
      ]
    },
    {
      "cell_type": "code",
      "source": [
        "df.count()   #used to count the number of rows"
      ],
      "metadata": {
        "colab": {
          "base_uri": "https://localhost:8080/"
        },
        "id": "_M11nS6hb4G9",
        "outputId": "b3eaa81f-6891-4ed3-a374-08f56ddd6c61"
      },
      "execution_count": 8,
      "outputs": [
        {
          "output_type": "execute_result",
          "data": {
            "text/plain": [
              "Make                      1201\n",
              "Model                     1276\n",
              "Variant                   1276\n",
              "Price                     1276\n",
              "Displacement              1264\n",
              "Cylinders                 1210\n",
              "Drivetrain                1269\n",
              "Fuel_System               1268\n",
              "Fuel_Tank_Capacity        1207\n",
              "Fuel_Type                 1276\n",
              "Height                    1275\n",
              "Length                    1276\n",
              "Width                     1264\n",
              "Doors                     1272\n",
              "City_Mileage               721\n",
              "ARAI_Certified_Mileage    1162\n",
              "Power                     1276\n",
              "Torque                    1274\n",
              "Type                      1275\n",
              "Wheelbase                 1256\n",
              "dtype: int64"
            ]
          },
          "metadata": {},
          "execution_count": 8
        }
      ]
    },
    {
      "cell_type": "code",
      "source": [
        "df = df.drop_duplicates()\n",
        "df.head(5)"
      ],
      "metadata": {
        "colab": {
          "base_uri": "https://localhost:8080/",
          "height": 444
        },
        "id": "uj6K5Kz5b6sZ",
        "outputId": "04122db4-071c-4a5c-edd7-454c6d7cbe43"
      },
      "execution_count": 9,
      "outputs": [
        {
          "output_type": "execute_result",
          "data": {
            "text/plain": [
              "   Make      Model  Variant    Price  Displacement  Cylinders  \\\n",
              "0  Tata  Nano Genx       Xt  292,667         624.0        2.0   \n",
              "1  Tata  Nano Genx       Xe  236,447         624.0        2.0   \n",
              "2  Tata  Nano Genx  Emax Xm  296,661         624.0        2.0   \n",
              "3  Tata  Nano Genx      Xta  334,768         624.0        2.0   \n",
              "4  Tata  Nano Genx       Xm  272,223         624.0        2.0   \n",
              "\n",
              "               Drivetrain Fuel_System  Fuel_Tank_Capacity Fuel_Type  Height  \\\n",
              "0  RWD (Rear Wheel Drive)   Injection                24.0    Petrol  1652.0   \n",
              "1  RWD (Rear Wheel Drive)   Injection                24.0    Petrol  1652.0   \n",
              "2  RWD (Rear Wheel Drive)   Injection                15.0       CNG  1652.0   \n",
              "3  RWD (Rear Wheel Drive)   Injection                24.0    Petrol  1652.0   \n",
              "4  RWD (Rear Wheel Drive)   Injection                24.0    Petrol  1652.0   \n",
              "\n",
              "   Length   Width  Doors City_Mileage  ARAI_Certified_Mileage  Power  Torque  \\\n",
              "0  3164.0  1750.0    5.0         23.6                    23.6   38.0    51.0   \n",
              "1  3164.0  1750.0    5.0         23.6                    23.6   38.0    51.0   \n",
              "2  3164.0  1750.0    4.0          NaN                     NaN   38.0    51.0   \n",
              "3  3164.0  1750.0    5.0         23.6                    21.9   38.0    51.0   \n",
              "4  3164.0  1750.0    5.0         23.6                    23.6   38.0    51.0   \n",
              "\n",
              "        Type  Wheelbase  \n",
              "0     Manual     2230.0  \n",
              "1     Manual     2230.0  \n",
              "2     Manual     2230.0  \n",
              "3  Automatic     2230.0  \n",
              "4     Manual     2230.0  "
            ],
            "text/html": [
              "\n",
              "  <div id=\"df-bf6a64f8-bb62-4927-bc31-81161dc04729\">\n",
              "    <div class=\"colab-df-container\">\n",
              "      <div>\n",
              "<style scoped>\n",
              "    .dataframe tbody tr th:only-of-type {\n",
              "        vertical-align: middle;\n",
              "    }\n",
              "\n",
              "    .dataframe tbody tr th {\n",
              "        vertical-align: top;\n",
              "    }\n",
              "\n",
              "    .dataframe thead th {\n",
              "        text-align: right;\n",
              "    }\n",
              "</style>\n",
              "<table border=\"1\" class=\"dataframe\">\n",
              "  <thead>\n",
              "    <tr style=\"text-align: right;\">\n",
              "      <th></th>\n",
              "      <th>Make</th>\n",
              "      <th>Model</th>\n",
              "      <th>Variant</th>\n",
              "      <th>Price</th>\n",
              "      <th>Displacement</th>\n",
              "      <th>Cylinders</th>\n",
              "      <th>Drivetrain</th>\n",
              "      <th>Fuel_System</th>\n",
              "      <th>Fuel_Tank_Capacity</th>\n",
              "      <th>Fuel_Type</th>\n",
              "      <th>Height</th>\n",
              "      <th>Length</th>\n",
              "      <th>Width</th>\n",
              "      <th>Doors</th>\n",
              "      <th>City_Mileage</th>\n",
              "      <th>ARAI_Certified_Mileage</th>\n",
              "      <th>Power</th>\n",
              "      <th>Torque</th>\n",
              "      <th>Type</th>\n",
              "      <th>Wheelbase</th>\n",
              "    </tr>\n",
              "  </thead>\n",
              "  <tbody>\n",
              "    <tr>\n",
              "      <th>0</th>\n",
              "      <td>Tata</td>\n",
              "      <td>Nano Genx</td>\n",
              "      <td>Xt</td>\n",
              "      <td>292,667</td>\n",
              "      <td>624.0</td>\n",
              "      <td>2.0</td>\n",
              "      <td>RWD (Rear Wheel Drive)</td>\n",
              "      <td>Injection</td>\n",
              "      <td>24.0</td>\n",
              "      <td>Petrol</td>\n",
              "      <td>1652.0</td>\n",
              "      <td>3164.0</td>\n",
              "      <td>1750.0</td>\n",
              "      <td>5.0</td>\n",
              "      <td>23.6</td>\n",
              "      <td>23.6</td>\n",
              "      <td>38.0</td>\n",
              "      <td>51.0</td>\n",
              "      <td>Manual</td>\n",
              "      <td>2230.0</td>\n",
              "    </tr>\n",
              "    <tr>\n",
              "      <th>1</th>\n",
              "      <td>Tata</td>\n",
              "      <td>Nano Genx</td>\n",
              "      <td>Xe</td>\n",
              "      <td>236,447</td>\n",
              "      <td>624.0</td>\n",
              "      <td>2.0</td>\n",
              "      <td>RWD (Rear Wheel Drive)</td>\n",
              "      <td>Injection</td>\n",
              "      <td>24.0</td>\n",
              "      <td>Petrol</td>\n",
              "      <td>1652.0</td>\n",
              "      <td>3164.0</td>\n",
              "      <td>1750.0</td>\n",
              "      <td>5.0</td>\n",
              "      <td>23.6</td>\n",
              "      <td>23.6</td>\n",
              "      <td>38.0</td>\n",
              "      <td>51.0</td>\n",
              "      <td>Manual</td>\n",
              "      <td>2230.0</td>\n",
              "    </tr>\n",
              "    <tr>\n",
              "      <th>2</th>\n",
              "      <td>Tata</td>\n",
              "      <td>Nano Genx</td>\n",
              "      <td>Emax Xm</td>\n",
              "      <td>296,661</td>\n",
              "      <td>624.0</td>\n",
              "      <td>2.0</td>\n",
              "      <td>RWD (Rear Wheel Drive)</td>\n",
              "      <td>Injection</td>\n",
              "      <td>15.0</td>\n",
              "      <td>CNG</td>\n",
              "      <td>1652.0</td>\n",
              "      <td>3164.0</td>\n",
              "      <td>1750.0</td>\n",
              "      <td>4.0</td>\n",
              "      <td>NaN</td>\n",
              "      <td>NaN</td>\n",
              "      <td>38.0</td>\n",
              "      <td>51.0</td>\n",
              "      <td>Manual</td>\n",
              "      <td>2230.0</td>\n",
              "    </tr>\n",
              "    <tr>\n",
              "      <th>3</th>\n",
              "      <td>Tata</td>\n",
              "      <td>Nano Genx</td>\n",
              "      <td>Xta</td>\n",
              "      <td>334,768</td>\n",
              "      <td>624.0</td>\n",
              "      <td>2.0</td>\n",
              "      <td>RWD (Rear Wheel Drive)</td>\n",
              "      <td>Injection</td>\n",
              "      <td>24.0</td>\n",
              "      <td>Petrol</td>\n",
              "      <td>1652.0</td>\n",
              "      <td>3164.0</td>\n",
              "      <td>1750.0</td>\n",
              "      <td>5.0</td>\n",
              "      <td>23.6</td>\n",
              "      <td>21.9</td>\n",
              "      <td>38.0</td>\n",
              "      <td>51.0</td>\n",
              "      <td>Automatic</td>\n",
              "      <td>2230.0</td>\n",
              "    </tr>\n",
              "    <tr>\n",
              "      <th>4</th>\n",
              "      <td>Tata</td>\n",
              "      <td>Nano Genx</td>\n",
              "      <td>Xm</td>\n",
              "      <td>272,223</td>\n",
              "      <td>624.0</td>\n",
              "      <td>2.0</td>\n",
              "      <td>RWD (Rear Wheel Drive)</td>\n",
              "      <td>Injection</td>\n",
              "      <td>24.0</td>\n",
              "      <td>Petrol</td>\n",
              "      <td>1652.0</td>\n",
              "      <td>3164.0</td>\n",
              "      <td>1750.0</td>\n",
              "      <td>5.0</td>\n",
              "      <td>23.6</td>\n",
              "      <td>23.6</td>\n",
              "      <td>38.0</td>\n",
              "      <td>51.0</td>\n",
              "      <td>Manual</td>\n",
              "      <td>2230.0</td>\n",
              "    </tr>\n",
              "  </tbody>\n",
              "</table>\n",
              "</div>\n",
              "      <button class=\"colab-df-convert\" onclick=\"convertToInteractive('df-bf6a64f8-bb62-4927-bc31-81161dc04729')\"\n",
              "              title=\"Convert this dataframe to an interactive table.\"\n",
              "              style=\"display:none;\">\n",
              "        \n",
              "  <svg xmlns=\"http://www.w3.org/2000/svg\" height=\"24px\"viewBox=\"0 0 24 24\"\n",
              "       width=\"24px\">\n",
              "    <path d=\"M0 0h24v24H0V0z\" fill=\"none\"/>\n",
              "    <path d=\"M18.56 5.44l.94 2.06.94-2.06 2.06-.94-2.06-.94-.94-2.06-.94 2.06-2.06.94zm-11 1L8.5 8.5l.94-2.06 2.06-.94-2.06-.94L8.5 2.5l-.94 2.06-2.06.94zm10 10l.94 2.06.94-2.06 2.06-.94-2.06-.94-.94-2.06-.94 2.06-2.06.94z\"/><path d=\"M17.41 7.96l-1.37-1.37c-.4-.4-.92-.59-1.43-.59-.52 0-1.04.2-1.43.59L10.3 9.45l-7.72 7.72c-.78.78-.78 2.05 0 2.83L4 21.41c.39.39.9.59 1.41.59.51 0 1.02-.2 1.41-.59l7.78-7.78 2.81-2.81c.8-.78.8-2.07 0-2.86zM5.41 20L4 18.59l7.72-7.72 1.47 1.35L5.41 20z\"/>\n",
              "  </svg>\n",
              "      </button>\n",
              "      \n",
              "  <style>\n",
              "    .colab-df-container {\n",
              "      display:flex;\n",
              "      flex-wrap:wrap;\n",
              "      gap: 12px;\n",
              "    }\n",
              "\n",
              "    .colab-df-convert {\n",
              "      background-color: #E8F0FE;\n",
              "      border: none;\n",
              "      border-radius: 50%;\n",
              "      cursor: pointer;\n",
              "      display: none;\n",
              "      fill: #1967D2;\n",
              "      height: 32px;\n",
              "      padding: 0 0 0 0;\n",
              "      width: 32px;\n",
              "    }\n",
              "\n",
              "    .colab-df-convert:hover {\n",
              "      background-color: #E2EBFA;\n",
              "      box-shadow: 0px 1px 2px rgba(60, 64, 67, 0.3), 0px 1px 3px 1px rgba(60, 64, 67, 0.15);\n",
              "      fill: #174EA6;\n",
              "    }\n",
              "\n",
              "    [theme=dark] .colab-df-convert {\n",
              "      background-color: #3B4455;\n",
              "      fill: #D2E3FC;\n",
              "    }\n",
              "\n",
              "    [theme=dark] .colab-df-convert:hover {\n",
              "      background-color: #434B5C;\n",
              "      box-shadow: 0px 1px 3px 1px rgba(0, 0, 0, 0.15);\n",
              "      filter: drop-shadow(0px 1px 2px rgba(0, 0, 0, 0.3));\n",
              "      fill: #FFFFFF;\n",
              "    }\n",
              "  </style>\n",
              "\n",
              "      <script>\n",
              "        const buttonEl =\n",
              "          document.querySelector('#df-bf6a64f8-bb62-4927-bc31-81161dc04729 button.colab-df-convert');\n",
              "        buttonEl.style.display =\n",
              "          google.colab.kernel.accessAllowed ? 'block' : 'none';\n",
              "\n",
              "        async function convertToInteractive(key) {\n",
              "          const element = document.querySelector('#df-bf6a64f8-bb62-4927-bc31-81161dc04729');\n",
              "          const dataTable =\n",
              "            await google.colab.kernel.invokeFunction('convertToInteractive',\n",
              "                                                     [key], {});\n",
              "          if (!dataTable) return;\n",
              "\n",
              "          const docLinkHtml = 'Like what you see? Visit the ' +\n",
              "            '<a target=\"_blank\" href=https://colab.research.google.com/notebooks/data_table.ipynb>data table notebook</a>'\n",
              "            + ' to learn more about interactive tables.';\n",
              "          element.innerHTML = '';\n",
              "          dataTable['output_type'] = 'display_data';\n",
              "          await google.colab.output.renderOutput(dataTable, element);\n",
              "          const docLink = document.createElement('div');\n",
              "          docLink.innerHTML = docLinkHtml;\n",
              "          element.appendChild(docLink);\n",
              "        }\n",
              "      </script>\n",
              "    </div>\n",
              "  </div>\n",
              "  "
            ]
          },
          "metadata": {},
          "execution_count": 9
        }
      ]
    },
    {
      "cell_type": "code",
      "source": [
        "df.count()"
      ],
      "metadata": {
        "colab": {
          "base_uri": "https://localhost:8080/"
        },
        "id": "SeHWDb-Tb9no",
        "outputId": "18ad7055-cd96-4e1e-e5be-7bc5f1e6dd17"
      },
      "execution_count": 10,
      "outputs": [
        {
          "output_type": "execute_result",
          "data": {
            "text/plain": [
              "Make                      1192\n",
              "Model                     1267\n",
              "Variant                   1267\n",
              "Price                     1267\n",
              "Displacement              1255\n",
              "Cylinders                 1201\n",
              "Drivetrain                1260\n",
              "Fuel_System               1259\n",
              "Fuel_Tank_Capacity        1198\n",
              "Fuel_Type                 1267\n",
              "Height                    1266\n",
              "Length                    1267\n",
              "Width                     1255\n",
              "Doors                     1263\n",
              "City_Mileage               713\n",
              "ARAI_Certified_Mileage    1153\n",
              "Power                     1267\n",
              "Torque                    1265\n",
              "Type                      1266\n",
              "Wheelbase                 1247\n",
              "dtype: int64"
            ]
          },
          "metadata": {},
          "execution_count": 10
        }
      ]
    },
    {
      "cell_type": "markdown",
      "source": [
        "Dropping the missing or null values"
      ],
      "metadata": {
        "id": "uDYqG-F2b_6L"
      }
    },
    {
      "cell_type": "code",
      "source": [
        "print(df.isnull().sum())"
      ],
      "metadata": {
        "colab": {
          "base_uri": "https://localhost:8080/"
        },
        "id": "M0zk1Wd-cAaX",
        "outputId": "e1d3f229-3d8c-4cc8-b7c1-f390ee2eeff9"
      },
      "execution_count": 11,
      "outputs": [
        {
          "output_type": "stream",
          "name": "stdout",
          "text": [
            "Make                       75\n",
            "Model                       0\n",
            "Variant                     0\n",
            "Price                       0\n",
            "Displacement               12\n",
            "Cylinders                  66\n",
            "Drivetrain                  7\n",
            "Fuel_System                 8\n",
            "Fuel_Tank_Capacity         69\n",
            "Fuel_Type                   0\n",
            "Height                      1\n",
            "Length                      0\n",
            "Width                      12\n",
            "Doors                       4\n",
            "City_Mileage              554\n",
            "ARAI_Certified_Mileage    114\n",
            "Power                       0\n",
            "Torque                      2\n",
            "Type                        1\n",
            "Wheelbase                  20\n",
            "dtype: int64\n"
          ]
        }
      ]
    },
    {
      "cell_type": "code",
      "source": [
        "df = df.dropna()    # Dropping the missing values.\n",
        "df.count()"
      ],
      "metadata": {
        "colab": {
          "base_uri": "https://localhost:8080/"
        },
        "id": "zZKNLz2pcFEA",
        "outputId": "6fa4ad7c-8d3e-44d4-820d-569ea96cf34d"
      },
      "execution_count": 12,
      "outputs": [
        {
          "output_type": "execute_result",
          "data": {
            "text/plain": [
              "Make                      608\n",
              "Model                     608\n",
              "Variant                   608\n",
              "Price                     608\n",
              "Displacement              608\n",
              "Cylinders                 608\n",
              "Drivetrain                608\n",
              "Fuel_System               608\n",
              "Fuel_Tank_Capacity        608\n",
              "Fuel_Type                 608\n",
              "Height                    608\n",
              "Length                    608\n",
              "Width                     608\n",
              "Doors                     608\n",
              "City_Mileage              608\n",
              "ARAI_Certified_Mileage    608\n",
              "Power                     608\n",
              "Torque                    608\n",
              "Type                      608\n",
              "Wheelbase                 608\n",
              "dtype: int64"
            ]
          },
          "metadata": {},
          "execution_count": 12
        }
      ]
    },
    {
      "cell_type": "code",
      "source": [
        "print(df.isnull().sum())   # After dropping the values"
      ],
      "metadata": {
        "colab": {
          "base_uri": "https://localhost:8080/"
        },
        "id": "jhzunBf3cKnq",
        "outputId": "1acdef30-2fcf-4cbc-a67e-0c7128a73dee"
      },
      "execution_count": 13,
      "outputs": [
        {
          "output_type": "stream",
          "name": "stdout",
          "text": [
            "Make                      0\n",
            "Model                     0\n",
            "Variant                   0\n",
            "Price                     0\n",
            "Displacement              0\n",
            "Cylinders                 0\n",
            "Drivetrain                0\n",
            "Fuel_System               0\n",
            "Fuel_Tank_Capacity        0\n",
            "Fuel_Type                 0\n",
            "Height                    0\n",
            "Length                    0\n",
            "Width                     0\n",
            "Doors                     0\n",
            "City_Mileage              0\n",
            "ARAI_Certified_Mileage    0\n",
            "Power                     0\n",
            "Torque                    0\n",
            "Type                      0\n",
            "Wheelbase                 0\n",
            "dtype: int64\n"
          ]
        }
      ]
    },
    {
      "cell_type": "markdown",
      "source": [
        "**Converting the object values to integer type.**\n",
        "\n",
        "While having a look at the data, the Price was stored as an object type. This is a serious problem because it is impossible to plot those values on a graph because it is a primary requirement that during plotting a graph all the values must be of type integer data. The author has stored, the Price in a different format (Rs2,34,000) so I had to remove the formatting and then convert them to an integer."
      ],
      "metadata": {
        "id": "EP9WqboOYcby"
      }
    },
    {
      "cell_type": "code",
      "source": [
        "# Removing the formatting\n",
        "df['Price'] = df['Price'].astype(str)\n",
        "df['Price'] = [x.replace('Rs',' ') for x in df['Price']]\n",
        "df['Price'] = [x.replace(',', '') for x in df['Price']]  "
      ],
      "metadata": {
        "id": "RmBgDuZ9XoJk"
      },
      "execution_count": 14,
      "outputs": []
    },
    {
      "cell_type": "code",
      "source": [
        "df['Price']=pd.to_numeric(df['Price'],errors='coerce')"
      ],
      "metadata": {
        "id": "EWPv05gSYGTi"
      },
      "execution_count": 15,
      "outputs": []
    },
    {
      "cell_type": "markdown",
      "source": [
        "**Detecting Outliers**\n",
        "\n",
        "An outlier is a point or set of points different from other points. Sometimes they can be very high or very low. It’s often a good idea to detect and remove the outliers. Because outliers are one of the primary reasons for resulting in a less accurate model. Hence it’s a good idea to remove them. I will perform the IQR score technique to detect and remove the outliers. Often outliers can be seen with visualizations using a box plot. Shown below is the box plot of Price. In the plot, you can find some points are outside the box they are none other than outliers."
      ],
      "metadata": {
        "id": "yaRT2KIUYiGp"
      }
    },
    {
      "cell_type": "code",
      "source": [
        "sns.boxplot(x=df['Price'])"
      ],
      "metadata": {
        "colab": {
          "base_uri": "https://localhost:8080/",
          "height": 296
        },
        "id": "e-x2n2dYXTpI",
        "outputId": "ddbd084d-c9ad-4d7e-8078-ab6b1de895ed"
      },
      "execution_count": 16,
      "outputs": [
        {
          "output_type": "execute_result",
          "data": {
            "text/plain": [
              "<matplotlib.axes._subplots.AxesSubplot at 0x7f87e4b04d10>"
            ]
          },
          "metadata": {},
          "execution_count": 16
        },
        {
          "output_type": "display_data",
          "data": {
            "text/plain": [
              "<Figure size 432x288 with 1 Axes>"
            ],
            "image/png": "[encoded data removed]"
          },
          "metadata": {}
        }
      ]
    },
    {
      "cell_type": "code",
      "source": [
        "Q1 = df.quantile(0.25)\n",
        "Q3 = df.quantile(0.75)\n",
        "IQR = Q3 - Q1\n",
        "print(IQR)"
      ],
      "metadata": {
        "colab": {
          "base_uri": "https://localhost:8080/"
        },
        "id": "gUOCJVFDYtJs",
        "outputId": "47dbe501-4ff6-4040-b75c-94b56ef7f6a3"
      },
      "execution_count": 17,
      "outputs": [
        {
          "output_type": "stream",
          "name": "stdout",
          "text": [
            "Price                     1232466.25\n",
            "Displacement                  801.00\n",
            "Cylinders                       0.00\n",
            "Fuel_Tank_Capacity             20.00\n",
            "Height                        177.00\n",
            "Length                        590.25\n",
            "Width                         155.00\n",
            "Doors                           1.00\n",
            "ARAI_Certified_Mileage          7.14\n",
            "Power                          73.50\n",
            "Torque                        205.00\n",
            "Wheelbase                     240.00\n",
            "dtype: float64\n"
          ]
        }
      ]
    },
    {
      "cell_type": "code",
      "source": [
        "df = df[~((df < (Q1 - 1.5 * IQR)) |(df > (Q3 + 1.5 * IQR))).any(axis=1)]"
      ],
      "metadata": {
        "id": "-A8llSqBYwk1"
      },
      "execution_count": 18,
      "outputs": []
    },
    {
      "cell_type": "code",
      "source": [
        "sns.boxplot(x=df['Price'])"
      ],
      "metadata": {
        "colab": {
          "base_uri": "https://localhost:8080/",
          "height": 296
        },
        "id": "57rfJzC9ZUyG",
        "outputId": "6bf78c16-5786-4b51-d06d-fd80b52f8be7"
      },
      "execution_count": 19,
      "outputs": [
        {
          "output_type": "execute_result",
          "data": {
            "text/plain": [
              "<matplotlib.axes._subplots.AxesSubplot at 0x7f87e4a5b350>"
            ]
          },
          "metadata": {},
          "execution_count": 19
        },
        {
          "output_type": "display_data",
          "data": {
            "text/plain": [
              "<Figure size 432x288 with 1 Axes>"
            ],
            "image/png": "[encoded data removed]"
          },
          "metadata": {}
        }
      ]
    },
    {
      "cell_type": "markdown",
      "source": [
        "After using the technique now as seen above the Price box plot contains no outlier points."
      ],
      "metadata": {
        "id": "FDvweXbLZX51"
      }
    },
    {
      "cell_type": "markdown",
      "source": [
        "**Histogram** \n",
        "\n",
        "Histogram refers to the frequency of occurrence of variables in an interval"
      ],
      "metadata": {
        "id": "R1241sinka0D"
      }
    },
    {
      "cell_type": "code",
      "source": [
        "plt.figure(1)\n",
        "plt.subplot(221)\n",
        "df['Type'].value_counts(normalize=True).plot(figsize=(10,8),kind='bar',color='red')\n",
        "plt.title(\"Number of Type frequency diagram\")\n",
        "plt.ylabel('Number of Type')\n",
        "plt.xlabel('Type');\n",
        "\n",
        "\n"
      ],
      "metadata": {
        "colab": {
          "base_uri": "https://localhost:8080/",
          "height": 317
        },
        "id": "Z3q8vmrNZf3S",
        "outputId": "231e7fe9-b484-4bbd-c35e-286bbbe48a48"
      },
      "execution_count": 24,
      "outputs": [
        {
          "output_type": "display_data",
          "data": {
            "text/plain": [
              "<Figure size 720x576 with 1 Axes>"
            ],
            "image/png": "[encoded data removed]"
          },
          "metadata": {}
        }
      ]
    },
    {
      "cell_type": "markdown",
      "source": [
        "-More than 70 % of the vehicle is Manual type Car"
      ],
      "metadata": {
        "id": "asP2gZFQPvBn"
      }
    },
    {
      "cell_type": "code",
      "source": [
        "plt.figure(1)\n",
        "plt.subplot(221)\n",
        "df['Make'].value_counts(normalize=True).plot(figsize=(10,8),kind='bar',color='red')\n",
        "plt.title(\"Number of Cars by make frequency diagram\")\n",
        "plt.ylabel('Number of cars')\n",
        "plt.xlabel('Make');\n"
      ],
      "metadata": {
        "colab": {
          "base_uri": "https://localhost:8080/",
          "height": 333
        },
        "id": "yY8oHmXaPr-D",
        "outputId": "6322fbf8-fb08-4978-ee34-a840b8ea1f33"
      },
      "execution_count": 26,
      "outputs": [
        {
          "output_type": "display_data",
          "data": {
            "text/plain": [
              "<Figure size 720x576 with 1 Axes>"
            ],
            "image/png": "[encoded data removed]"
          },
          "metadata": {}
        }
      ]
    },
    {
      "cell_type": "markdown",
      "source": [
        "Most produced vehicle are of body style Maruti Suzuki around 165% followed by Toyota and hyundai 150%\n",
        "\n"
      ],
      "metadata": {
        "id": "W6o79NBaQmhv"
      }
    },
    {
      "cell_type": "code",
      "source": [
        "plt.figure(1)\n",
        "plt.subplot(221)\n",
        "df['Fuel_Type'].value_counts(normalize=True).plot(figsize=(10,8),kind='bar',color='red')\n",
        "plt.title(\"Fuel type frequency diagram\")\n",
        "plt.ylabel('Number of cars')\n",
        "plt.xlabel('Fuel type');"
      ],
      "metadata": {
        "colab": {
          "base_uri": "https://localhost:8080/",
          "height": 297
        },
        "id": "Mi5kPzNQQvq6",
        "outputId": "00a35d4f-77b3-4b74-c5ec-7dbfdbc7b29d"
      },
      "execution_count": 27,
      "outputs": [
        {
          "output_type": "display_data",
          "data": {
            "text/plain": [
              "<Figure size 720x576 with 1 Axes>"
            ],
            "image/png": "[encoded data removed]"
          },
          "metadata": {}
        }
      ]
    },
    {
      "cell_type": "markdown",
      "source": [
        "-More than 50 % of the vehicle is a Diesel type Car"
      ],
      "metadata": {
        "id": "085fXWUrQ_hk"
      }
    },
    {
      "cell_type": "markdown",
      "source": [
        "**Box plot of Price of every body type**"
      ],
      "metadata": {
        "id": "1vqSesaMgS_F"
      }
    },
    {
      "cell_type": "code",
      "source": [
        "plt.figure(figsize=(12,12))\n",
        "sns.boxplot(data=df, x='Price', y='Make', palette='viridis')\n",
        "plt.title('Box plot of Price of every body type',fontsize=18)\n",
        "plt.ylabel('')\n",
        "plt.yticks(fontsize=18)\n",
        "plt.xticks([i for i in range(0,800000,100000)],[f'{i:,}Rs.' for i in range(0,8000000,1000000)],fontsize=14);"
      ],
      "metadata": {
        "colab": {
          "base_uri": "https://localhost:8080/",
          "height": 738
        },
        "id": "wHFbbcVqf4UF",
        "outputId": "3240cc09-d87d-4e18-d6dd-4be427c37460"
      },
      "execution_count": 20,
      "outputs": [
        {
          "output_type": "display_data",
          "data": {
            "text/plain": [
              "<Figure size 864x864 with 1 Axes>"
            ],
            "image/png": "[encoded data removed]"
          },
          "metadata": {}
        }
      ]
    },
    {
      "cell_type": "markdown",
      "source": [
        "It's Clear that Car body type strongly affect the price"
      ],
      "metadata": {
        "id": "i69qdTCQgbCG"
      }
    },
    {
      "cell_type": "markdown",
      "source": [
        "**Performing a 5 number summary (min, lower quartile, median, upper quartile, max)**\n",
        "\n",
        "Next step is to perform a 5-number summary for the numeric data. As discussed earlier the numeric data, in this case, are Price, Displacement, Cylinders, Fuel_Tank_Capacity,Height,length,width, Wheelbase,doors,seating_capacity. The five-number summary includes minimum, lower quartile, median, upper quartile, and the maximum values all these values can be obtained by using the describe method."
      ],
      "metadata": {
        "id": "QXva-xENgmlc"
      }
    },
    {
      "cell_type": "code",
      "source": [
        "df.describe()"
      ],
      "metadata": {
        "colab": {
          "base_uri": "https://localhost:8080/",
          "height": 364
        },
        "id": "jNXZq8VMgcur",
        "outputId": "5840dfbf-bfda-4500-c417-9db662379db0"
      },
      "execution_count": 21,
      "outputs": [
        {
          "output_type": "execute_result",
          "data": {
            "text/plain": [
              "              Price  Displacement  Cylinders  Fuel_Tank_Capacity       Height  \\\n",
              "count  3.850000e+02    385.000000      385.0          385.000000   385.000000   \n",
              "mean   1.226583e+06   1580.457143        4.0           49.675325  1602.984416   \n",
              "std    7.225448e+05    432.817951        0.0           10.339852   131.578972   \n",
              "min    3.521360e+05   1172.000000        4.0           32.000000  1416.000000   \n",
              "25%    7.516930e+05   1248.000000        4.0           43.000000  1505.000000   \n",
              "50%    9.641990e+05   1461.000000        4.0           45.000000  1555.000000   \n",
              "75%    1.407871e+06   1598.000000        4.0           55.000000  1671.000000   \n",
              "max    3.678599e+06   2999.000000        4.0           80.000000  1930.000000   \n",
              "\n",
              "            Length        Width       Doors  ARAI_Certified_Mileage  \\\n",
              "count   385.000000   385.000000  385.000000              385.000000   \n",
              "mean   4270.612987  1752.706494    4.657143               18.905844   \n",
              "std     324.820541    76.297045    0.486117                4.117865   \n",
              "min    3675.000000  1475.000000    3.000000               10.010000   \n",
              "25%    3995.000000  1695.000000    4.000000               15.960000   \n",
              "50%    4315.000000  1735.000000    5.000000               18.600000   \n",
              "75%    4490.000000  1815.000000    5.000000               21.400000   \n",
              "max    5118.000000  2060.000000    5.000000               28.400000   \n",
              "\n",
              "            Power      Torque    Wheelbase  \n",
              "count  385.000000  385.000000   385.000000  \n",
              "mean   107.114545  206.267013  2596.602597  \n",
              "std     34.031971   82.153540   123.979713  \n",
              "min     63.000000   96.000000  2350.000000  \n",
              "25%     83.000000  145.000000  2500.000000  \n",
              "50%     90.000000  197.000000  2590.000000  \n",
              "75%    128.000000  245.000000  2673.000000  \n",
              "max    190.000000  450.000000  3040.000000  "
            ],
            "text/html": [
              "\n",
              "  <div id=\"df-f51c7a0c-ce6a-496b-9221-df7b8330f80c\">\n",
              "    <div class=\"colab-df-container\">\n",
              "      <div>\n",
              "<style scoped>\n",
              "    .dataframe tbody tr th:only-of-type {\n",
              "        vertical-align: middle;\n",
              "    }\n",
              "\n",
              "    .dataframe tbody tr th {\n",
              "        vertical-align: top;\n",
              "    }\n",
              "\n",
              "    .dataframe thead th {\n",
              "        text-align: right;\n",
              "    }\n",
              "</style>\n",
              "<table border=\"1\" class=\"dataframe\">\n",
              "  <thead>\n",
              "    <tr style=\"text-align: right;\">\n",
              "      <th></th>\n",
              "      <th>Price</th>\n",
              "      <th>Displacement</th>\n",
              "      <th>Cylinders</th>\n",
              "      <th>Fuel_Tank_Capacity</th>\n",
              "      <th>Height</th>\n",
              "      <th>Length</th>\n",
              "      <th>Width</th>\n",
              "      <th>Doors</th>\n",
              "      <th>ARAI_Certified_Mileage</th>\n",
              "      <th>Power</th>\n",
              "      <th>Torque</th>\n",
              "      <th>Wheelbase</th>\n",
              "    </tr>\n",
              "  </thead>\n",
              "  <tbody>\n",
              "    <tr>\n",
              "      <th>count</th>\n",
              "      <td>3.850000e+02</td>\n",
              "      <td>385.000000</td>\n",
              "      <td>385.0</td>\n",
              "      <td>385.000000</td>\n",
              "      <td>385.000000</td>\n",
              "      <td>385.000000</td>\n",
              "      <td>385.000000</td>\n",
              "      <td>385.000000</td>\n",
              "      <td>385.000000</td>\n",
              "      <td>385.000000</td>\n",
              "      <td>385.000000</td>\n",
              "      <td>385.000000</td>\n",
              "    </tr>\n",
              "    <tr>\n",
              "      <th>mean</th>\n",
              "      <td>1.226583e+06</td>\n",
              "      <td>1580.457143</td>\n",
              "      <td>4.0</td>\n",
              "      <td>49.675325</td>\n",
              "      <td>1602.984416</td>\n",
              "      <td>4270.612987</td>\n",
              "      <td>1752.706494</td>\n",
              "      <td>4.657143</td>\n",
              "      <td>18.905844</td>\n",
              "      <td>107.114545</td>\n",
              "      <td>206.267013</td>\n",
              "      <td>2596.602597</td>\n",
              "    </tr>\n",
              "    <tr>\n",
              "      <th>std</th>\n",
              "      <td>7.225448e+05</td>\n",
              "      <td>432.817951</td>\n",
              "      <td>0.0</td>\n",
              "      <td>10.339852</td>\n",
              "      <td>131.578972</td>\n",
              "      <td>324.820541</td>\n",
              "      <td>76.297045</td>\n",
              "      <td>0.486117</td>\n",
              "      <td>4.117865</td>\n",
              "      <td>34.031971</td>\n",
              "      <td>82.153540</td>\n",
              "      <td>123.979713</td>\n",
              "    </tr>\n",
              "    <tr>\n",
              "      <th>min</th>\n",
              "      <td>3.521360e+05</td>\n",
              "      <td>1172.000000</td>\n",
              "      <td>4.0</td>\n",
              "      <td>32.000000</td>\n",
              "      <td>1416.000000</td>\n",
              "      <td>3675.000000</td>\n",
              "      <td>1475.000000</td>\n",
              "      <td>3.000000</td>\n",
              "      <td>10.010000</td>\n",
              "      <td>63.000000</td>\n",
              "      <td>96.000000</td>\n",
              "      <td>2350.000000</td>\n",
              "    </tr>\n",
              "    <tr>\n",
              "      <th>25%</th>\n",
              "      <td>7.516930e+05</td>\n",
              "      <td>1248.000000</td>\n",
              "      <td>4.0</td>\n",
              "      <td>43.000000</td>\n",
              "      <td>1505.000000</td>\n",
              "      <td>3995.000000</td>\n",
              "      <td>1695.000000</td>\n",
              "      <td>4.000000</td>\n",
              "      <td>15.960000</td>\n",
              "      <td>83.000000</td>\n",
              "      <td>145.000000</td>\n",
              "      <td>2500.000000</td>\n",
              "    </tr>\n",
              "    <tr>\n",
              "      <th>50%</th>\n",
              "      <td>9.641990e+05</td>\n",
              "      <td>1461.000000</td>\n",
              "      <td>4.0</td>\n",
              "      <td>45.000000</td>\n",
              "      <td>1555.000000</td>\n",
              "      <td>4315.000000</td>\n",
              "      <td>1735.000000</td>\n",
              "      <td>5.000000</td>\n",
              "      <td>18.600000</td>\n",
              "      <td>90.000000</td>\n",
              "      <td>197.000000</td>\n",
              "      <td>2590.000000</td>\n",
              "    </tr>\n",
              "    <tr>\n",
              "      <th>75%</th>\n",
              "      <td>1.407871e+06</td>\n",
              "      <td>1598.000000</td>\n",
              "      <td>4.0</td>\n",
              "      <td>55.000000</td>\n",
              "      <td>1671.000000</td>\n",
              "      <td>4490.000000</td>\n",
              "      <td>1815.000000</td>\n",
              "      <td>5.000000</td>\n",
              "      <td>21.400000</td>\n",
              "      <td>128.000000</td>\n",
              "      <td>245.000000</td>\n",
              "      <td>2673.000000</td>\n",
              "    </tr>\n",
              "    <tr>\n",
              "      <th>max</th>\n",
              "      <td>3.678599e+06</td>\n",
              "      <td>2999.000000</td>\n",
              "      <td>4.0</td>\n",
              "      <td>80.000000</td>\n",
              "      <td>1930.000000</td>\n",
              "      <td>5118.000000</td>\n",
              "      <td>2060.000000</td>\n",
              "      <td>5.000000</td>\n",
              "      <td>28.400000</td>\n",
              "      <td>190.000000</td>\n",
              "      <td>450.000000</td>\n",
              "      <td>3040.000000</td>\n",
              "    </tr>\n",
              "  </tbody>\n",
              "</table>\n",
              "</div>\n",
              "      <button class=\"colab-df-convert\" onclick=\"convertToInteractive('df-f51c7a0c-ce6a-496b-9221-df7b8330f80c')\"\n",
              "              title=\"Convert this dataframe to an interactive table.\"\n",
              "              style=\"display:none;\">\n",
              "        \n",
              "  <svg xmlns=\"http://www.w3.org/2000/svg\" height=\"24px\"viewBox=\"0 0 24 24\"\n",
              "       width=\"24px\">\n",
              "    <path d=\"M0 0h24v24H0V0z\" fill=\"none\"/>\n",
              "    <path d=\"M18.56 5.44l.94 2.06.94-2.06 2.06-.94-2.06-.94-.94-2.06-.94 2.06-2.06.94zm-11 1L8.5 8.5l.94-2.06 2.06-.94-2.06-.94L8.5 2.5l-.94 2.06-2.06.94zm10 10l.94 2.06.94-2.06 2.06-.94-2.06-.94-.94-2.06-.94 2.06-2.06.94z\"/><path d=\"M17.41 7.96l-1.37-1.37c-.4-.4-.92-.59-1.43-.59-.52 0-1.04.2-1.43.59L10.3 9.45l-7.72 7.72c-.78.78-.78 2.05 0 2.83L4 21.41c.39.39.9.59 1.41.59.51 0 1.02-.2 1.41-.59l7.78-7.78 2.81-2.81c.8-.78.8-2.07 0-2.86zM5.41 20L4 18.59l7.72-7.72 1.47 1.35L5.41 20z\"/>\n",
              "  </svg>\n",
              "      </button>\n",
              "      \n",
              "  <style>\n",
              "    .colab-df-container {\n",
              "      display:flex;\n",
              "      flex-wrap:wrap;\n",
              "      gap: 12px;\n",
              "    }\n",
              "\n",
              "    .colab-df-convert {\n",
              "      background-color: #E8F0FE;\n",
              "      border: none;\n",
              "      border-radius: 50%;\n",
              "      cursor: pointer;\n",
              "      display: none;\n",
              "      fill: #1967D2;\n",
              "      height: 32px;\n",
              "      padding: 0 0 0 0;\n",
              "      width: 32px;\n",
              "    }\n",
              "\n",
              "    .colab-df-convert:hover {\n",
              "      background-color: #E2EBFA;\n",
              "      box-shadow: 0px 1px 2px rgba(60, 64, 67, 0.3), 0px 1px 3px 1px rgba(60, 64, 67, 0.15);\n",
              "      fill: #174EA6;\n",
              "    }\n",
              "\n",
              "    [theme=dark] .colab-df-convert {\n",
              "      background-color: #3B4455;\n",
              "      fill: #D2E3FC;\n",
              "    }\n",
              "\n",
              "    [theme=dark] .colab-df-convert:hover {\n",
              "      background-color: #434B5C;\n",
              "      box-shadow: 0px 1px 3px 1px rgba(0, 0, 0, 0.15);\n",
              "      filter: drop-shadow(0px 1px 2px rgba(0, 0, 0, 0.3));\n",
              "      fill: #FFFFFF;\n",
              "    }\n",
              "  </style>\n",
              "\n",
              "      <script>\n",
              "        const buttonEl =\n",
              "          document.querySelector('#df-f51c7a0c-ce6a-496b-9221-df7b8330f80c button.colab-df-convert');\n",
              "        buttonEl.style.display =\n",
              "          google.colab.kernel.accessAllowed ? 'block' : 'none';\n",
              "\n",
              "        async function convertToInteractive(key) {\n",
              "          const element = document.querySelector('#df-f51c7a0c-ce6a-496b-9221-df7b8330f80c');\n",
              "          const dataTable =\n",
              "            await google.colab.kernel.invokeFunction('convertToInteractive',\n",
              "                                                     [key], {});\n",
              "          if (!dataTable) return;\n",
              "\n",
              "          const docLinkHtml = 'Like what you see? Visit the ' +\n",
              "            '<a target=\"_blank\" href=https://colab.research.google.com/notebooks/data_table.ipynb>data table notebook</a>'\n",
              "            + ' to learn more about interactive tables.';\n",
              "          element.innerHTML = '';\n",
              "          dataTable['output_type'] = 'display_data';\n",
              "          await google.colab.output.renderOutput(dataTable, element);\n",
              "          const docLink = document.createElement('div');\n",
              "          docLink.innerHTML = docLinkHtml;\n",
              "          element.appendChild(docLink);\n",
              "        }\n",
              "      </script>\n",
              "    </div>\n",
              "  </div>\n",
              "  "
            ]
          },
          "metadata": {},
          "execution_count": 21
        }
      ]
    }
  ]
}