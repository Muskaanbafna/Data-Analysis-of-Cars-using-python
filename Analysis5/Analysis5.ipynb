{
  "nbformat": 4,
  "nbformat_minor": 0,
  "metadata": {
    "colab": {
      "name": "Analysis5.ipynb",
      "provenance": []
    },
    "kernelspec": {
      "name": "python3",
      "display_name": "Python 3"
    },
    "language_info": {
      "name": "python"
    }
  },
  "cells": [
    {
      "cell_type": "markdown",
      "source": [
        "**Analysis 5**\n",
        "\n",
        "Clustering"
      ],
      "metadata": {
        "id": "CGkuy7MSxPIs"
      }
    },
    {
      "cell_type": "code",
      "execution_count": 27,
      "metadata": {
        "id": "xlOzDpaH4mVh"
      },
      "outputs": [],
      "source": [
        "# imports\n",
        "import numpy as np\n",
        "import pandas as pd\n",
        "pd.set_option('display.max_columns', 40)\n",
        "import matplotlib.pyplot as plt\n",
        "import matplotlib.gridspec as gridspec\n",
        "import seaborn as sns\n",
        "%matplotlib inline\n",
        "sns.set_style('darkgrid')\n",
        "import plotly.express as px\n",
        "from sklearn.cluster import KMeans\n",
        "import warnings\n",
        "warnings.filterwarnings('ignore');"
      ]
    },
    {
      "cell_type": "code",
      "execution_count": 28,
      "metadata": {
        "colab": {
          "base_uri": "https://localhost:8080/",
          "height": 444
        },
        "id": "fshjDqgN9wzw",
        "outputId": "ae856d99-8a57-4499-bb7f-019d71750c5b"
      },
      "outputs": [
        {
          "output_type": "execute_result",
          "data": {
            "text/plain": [
              "   Make      Model  Variant    Price  Displacement  Cylinders  \\\n",
              "0  Tata  Nano Genx       Xt  292,667         624.0        2.0   \n",
              "1  Tata  Nano Genx       Xe  236,447         624.0        2.0   \n",
              "2  Tata  Nano Genx  Emax Xm  296,661         624.0        2.0   \n",
              "3  Tata  Nano Genx      Xta  334,768         624.0        2.0   \n",
              "4  Tata  Nano Genx       Xm  272,223         624.0        2.0   \n",
              "\n",
              "               Drivetrain Fuel_System  Fuel_Tank_Capacity Fuel_Type  Height  \\\n",
              "0  RWD (Rear Wheel Drive)   Injection                24.0    Petrol  1652.0   \n",
              "1  RWD (Rear Wheel Drive)   Injection                24.0    Petrol  1652.0   \n",
              "2  RWD (Rear Wheel Drive)   Injection                15.0       CNG  1652.0   \n",
              "3  RWD (Rear Wheel Drive)   Injection                24.0    Petrol  1652.0   \n",
              "4  RWD (Rear Wheel Drive)   Injection                24.0    Petrol  1652.0   \n",
              "\n",
              "   Length   Width  Doors City_Mileage  ARAI_Certified_Mileage  Power  Torque  \\\n",
              "0  3164.0  1750.0    5.0         23.6                    23.6   38.0    51.0   \n",
              "1  3164.0  1750.0    5.0         23.6                    23.6   38.0    51.0   \n",
              "2  3164.0  1750.0    4.0          NaN                     NaN   38.0    51.0   \n",
              "3  3164.0  1750.0    5.0         23.6                    21.9   38.0    51.0   \n",
              "4  3164.0  1750.0    5.0         23.6                    23.6   38.0    51.0   \n",
              "\n",
              "        Type  Wheelbase  \n",
              "0     Manual     2230.0  \n",
              "1     Manual     2230.0  \n",
              "2     Manual     2230.0  \n",
              "3  Automatic     2230.0  \n",
              "4     Manual     2230.0  "
            ],
            "text/html": [
              "\n",
              "  <div id=\"df-d9727e6a-10d0-4f45-83d0-bcd8f750868f\">\n",
              "    <div class=\"colab-df-container\">\n",
              "      <div>\n",
              "<style scoped>\n",
              "    .dataframe tbody tr th:only-of-type {\n",
              "        vertical-align: middle;\n",
              "    }\n",
              "\n",
              "    .dataframe tbody tr th {\n",
              "        vertical-align: top;\n",
              "    }\n",
              "\n",
              "    .dataframe thead th {\n",
              "        text-align: right;\n",
              "    }\n",
              "</style>\n",
              "<table border=\"1\" class=\"dataframe\">\n",
              "  <thead>\n",
              "    <tr style=\"text-align: right;\">\n",
              "      <th></th>\n",
              "      <th>Make</th>\n",
              "      <th>Model</th>\n",
              "      <th>Variant</th>\n",
              "      <th>Price</th>\n",
              "      <th>Displacement</th>\n",
              "      <th>Cylinders</th>\n",
              "      <th>Drivetrain</th>\n",
              "      <th>Fuel_System</th>\n",
              "      <th>Fuel_Tank_Capacity</th>\n",
              "      <th>Fuel_Type</th>\n",
              "      <th>Height</th>\n",
              "      <th>Length</th>\n",
              "      <th>Width</th>\n",
              "      <th>Doors</th>\n",
              "      <th>City_Mileage</th>\n",
              "      <th>ARAI_Certified_Mileage</th>\n",
              "      <th>Power</th>\n",
              "      <th>Torque</th>\n",
              "      <th>Type</th>\n",
              "      <th>Wheelbase</th>\n",
              "    </tr>\n",
              "  </thead>\n",
              "  <tbody>\n",
              "    <tr>\n",
              "      <th>0</th>\n",
              "      <td>Tata</td>\n",
              "      <td>Nano Genx</td>\n",
              "      <td>Xt</td>\n",
              "      <td>292,667</td>\n",
              "      <td>624.0</td>\n",
              "      <td>2.0</td>\n",
              "      <td>RWD (Rear Wheel Drive)</td>\n",
              "      <td>Injection</td>\n",
              "      <td>24.0</td>\n",
              "      <td>Petrol</td>\n",
              "      <td>1652.0</td>\n",
              "      <td>3164.0</td>\n",
              "      <td>1750.0</td>\n",
              "      <td>5.0</td>\n",
              "      <td>23.6</td>\n",
              "      <td>23.6</td>\n",
              "      <td>38.0</td>\n",
              "      <td>51.0</td>\n",
              "      <td>Manual</td>\n",
              "      <td>2230.0</td>\n",
              "    </tr>\n",
              "    <tr>\n",
              "      <th>1</th>\n",
              "      <td>Tata</td>\n",
              "      <td>Nano Genx</td>\n",
              "      <td>Xe</td>\n",
              "      <td>236,447</td>\n",
              "      <td>624.0</td>\n",
              "      <td>2.0</td>\n",
              "      <td>RWD (Rear Wheel Drive)</td>\n",
              "      <td>Injection</td>\n",
              "      <td>24.0</td>\n",
              "      <td>Petrol</td>\n",
              "      <td>1652.0</td>\n",
              "      <td>3164.0</td>\n",
              "      <td>1750.0</td>\n",
              "      <td>5.0</td>\n",
              "      <td>23.6</td>\n",
              "      <td>23.6</td>\n",
              "      <td>38.0</td>\n",
              "      <td>51.0</td>\n",
              "      <td>Manual</td>\n",
              "      <td>2230.0</td>\n",
              "    </tr>\n",
              "    <tr>\n",
              "      <th>2</th>\n",
              "      <td>Tata</td>\n",
              "      <td>Nano Genx</td>\n",
              "      <td>Emax Xm</td>\n",
              "      <td>296,661</td>\n",
              "      <td>624.0</td>\n",
              "      <td>2.0</td>\n",
              "      <td>RWD (Rear Wheel Drive)</td>\n",
              "      <td>Injection</td>\n",
              "      <td>15.0</td>\n",
              "      <td>CNG</td>\n",
              "      <td>1652.0</td>\n",
              "      <td>3164.0</td>\n",
              "      <td>1750.0</td>\n",
              "      <td>4.0</td>\n",
              "      <td>NaN</td>\n",
              "      <td>NaN</td>\n",
              "      <td>38.0</td>\n",
              "      <td>51.0</td>\n",
              "      <td>Manual</td>\n",
              "      <td>2230.0</td>\n",
              "    </tr>\n",
              "    <tr>\n",
              "      <th>3</th>\n",
              "      <td>Tata</td>\n",
              "      <td>Nano Genx</td>\n",
              "      <td>Xta</td>\n",
              "      <td>334,768</td>\n",
              "      <td>624.0</td>\n",
              "      <td>2.0</td>\n",
              "      <td>RWD (Rear Wheel Drive)</td>\n",
              "      <td>Injection</td>\n",
              "      <td>24.0</td>\n",
              "      <td>Petrol</td>\n",
              "      <td>1652.0</td>\n",
              "      <td>3164.0</td>\n",
              "      <td>1750.0</td>\n",
              "      <td>5.0</td>\n",
              "      <td>23.6</td>\n",
              "      <td>21.9</td>\n",
              "      <td>38.0</td>\n",
              "      <td>51.0</td>\n",
              "      <td>Automatic</td>\n",
              "      <td>2230.0</td>\n",
              "    </tr>\n",
              "    <tr>\n",
              "      <th>4</th>\n",
              "      <td>Tata</td>\n",
              "      <td>Nano Genx</td>\n",
              "      <td>Xm</td>\n",
              "      <td>272,223</td>\n",
              "      <td>624.0</td>\n",
              "      <td>2.0</td>\n",
              "      <td>RWD (Rear Wheel Drive)</td>\n",
              "      <td>Injection</td>\n",
              "      <td>24.0</td>\n",
              "      <td>Petrol</td>\n",
              "      <td>1652.0</td>\n",
              "      <td>3164.0</td>\n",
              "      <td>1750.0</td>\n",
              "      <td>5.0</td>\n",
              "      <td>23.6</td>\n",
              "      <td>23.6</td>\n",
              "      <td>38.0</td>\n",
              "      <td>51.0</td>\n",
              "      <td>Manual</td>\n",
              "      <td>2230.0</td>\n",
              "    </tr>\n",
              "  </tbody>\n",
              "</table>\n",
              "</div>\n",
              "      <button class=\"colab-df-convert\" onclick=\"convertToInteractive('df-d9727e6a-10d0-4f45-83d0-bcd8f750868f')\"\n",
              "              title=\"Convert this dataframe to an interactive table.\"\n",
              "              style=\"display:none;\">\n",
              "        \n",
              "  <svg xmlns=\"http://www.w3.org/2000/svg\" height=\"24px\"viewBox=\"0 0 24 24\"\n",
              "       width=\"24px\">\n",
              "    <path d=\"M0 0h24v24H0V0z\" fill=\"none\"/>\n",
              "    <path d=\"M18.56 5.44l.94 2.06.94-2.06 2.06-.94-2.06-.94-.94-2.06-.94 2.06-2.06.94zm-11 1L8.5 8.5l.94-2.06 2.06-.94-2.06-.94L8.5 2.5l-.94 2.06-2.06.94zm10 10l.94 2.06.94-2.06 2.06-.94-2.06-.94-.94-2.06-.94 2.06-2.06.94z\"/><path d=\"M17.41 7.96l-1.37-1.37c-.4-.4-.92-.59-1.43-.59-.52 0-1.04.2-1.43.59L10.3 9.45l-7.72 7.72c-.78.78-.78 2.05 0 2.83L4 21.41c.39.39.9.59 1.41.59.51 0 1.02-.2 1.41-.59l7.78-7.78 2.81-2.81c.8-.78.8-2.07 0-2.86zM5.41 20L4 18.59l7.72-7.72 1.47 1.35L5.41 20z\"/>\n",
              "  </svg>\n",
              "      </button>\n",
              "      \n",
              "  <style>\n",
              "    .colab-df-container {\n",
              "      display:flex;\n",
              "      flex-wrap:wrap;\n",
              "      gap: 12px;\n",
              "    }\n",
              "\n",
              "    .colab-df-convert {\n",
              "      background-color: #E8F0FE;\n",
              "      border: none;\n",
              "      border-radius: 50%;\n",
              "      cursor: pointer;\n",
              "      display: none;\n",
              "      fill: #1967D2;\n",
              "      height: 32px;\n",
              "      padding: 0 0 0 0;\n",
              "      width: 32px;\n",
              "    }\n",
              "\n",
              "    .colab-df-convert:hover {\n",
              "      background-color: #E2EBFA;\n",
              "      box-shadow: 0px 1px 2px rgba(60, 64, 67, 0.3), 0px 1px 3px 1px rgba(60, 64, 67, 0.15);\n",
              "      fill: #174EA6;\n",
              "    }\n",
              "\n",
              "    [theme=dark] .colab-df-convert {\n",
              "      background-color: #3B4455;\n",
              "      fill: #D2E3FC;\n",
              "    }\n",
              "\n",
              "    [theme=dark] .colab-df-convert:hover {\n",
              "      background-color: #434B5C;\n",
              "      box-shadow: 0px 1px 3px 1px rgba(0, 0, 0, 0.15);\n",
              "      filter: drop-shadow(0px 1px 2px rgba(0, 0, 0, 0.3));\n",
              "      fill: #FFFFFF;\n",
              "    }\n",
              "  </style>\n",
              "\n",
              "      <script>\n",
              "        const buttonEl =\n",
              "          document.querySelector('#df-d9727e6a-10d0-4f45-83d0-bcd8f750868f button.colab-df-convert');\n",
              "        buttonEl.style.display =\n",
              "          google.colab.kernel.accessAllowed ? 'block' : 'none';\n",
              "\n",
              "        async function convertToInteractive(key) {\n",
              "          const element = document.querySelector('#df-d9727e6a-10d0-4f45-83d0-bcd8f750868f');\n",
              "          const dataTable =\n",
              "            await google.colab.kernel.invokeFunction('convertToInteractive',\n",
              "                                                     [key], {});\n",
              "          if (!dataTable) return;\n",
              "\n",
              "          const docLinkHtml = 'Like what you see? Visit the ' +\n",
              "            '<a target=\"_blank\" href=https://colab.research.google.com/notebooks/data_table.ipynb>data table notebook</a>'\n",
              "            + ' to learn more about interactive tables.';\n",
              "          element.innerHTML = '';\n",
              "          dataTable['output_type'] = 'display_data';\n",
              "          await google.colab.output.renderOutput(dataTable, element);\n",
              "          const docLink = document.createElement('div');\n",
              "          docLink.innerHTML = docLinkHtml;\n",
              "          element.appendChild(docLink);\n",
              "        }\n",
              "      </script>\n",
              "    </div>\n",
              "  </div>\n",
              "  "
            ]
          },
          "metadata": {},
          "execution_count": 28
        }
      ],
      "source": [
        "df = pd.read_csv(\"CARSSSS.csv\")\n",
        "# to display the top 5 rows\n",
        "df.head(5)\n"
      ]
    },
    {
      "cell_type": "code",
      "execution_count": 29,
      "metadata": {
        "colab": {
          "base_uri": "https://localhost:8080/",
          "height": 444
        },
        "id": "P-MHbfcuACsv",
        "outputId": "887f3b73-191e-42e1-d8dc-c82e2dda5a5a"
      },
      "outputs": [
        {
          "output_type": "execute_result",
          "data": {
            "text/plain": [
              "            Make    Model        Variant      Price  Displacement  Cylinders  \\\n",
              "1271       Honda     City   Vx Mt Diesel  1,302,000        1498.0        4.0   \n",
              "1272       Honda     City   Zx Mt Diesel  1,421,000        1498.0        4.0   \n",
              "1273       Honda     City  Zx Cvt Petrol  1,431,000        1497.0        4.0   \n",
              "1274       Honda     City   V Cvt Petrol  1,201,000        1497.0        4.0   \n",
              "1275  Mitsubishi  Montero         3.2 At  6,862,560        3200.0        4.0   \n",
              "\n",
              "                   Drivetrain Fuel_System  Fuel_Tank_Capacity Fuel_Type  \\\n",
              "1271  FWD (Front Wheel Drive)   Injection                40.0    Diesel   \n",
              "1272  FWD (Front Wheel Drive)   Injection                40.0    Diesel   \n",
              "1273  FWD (Front Wheel Drive)   Injection                40.0    Petrol   \n",
              "1274  FWD (Front Wheel Drive)   Injection                40.0    Petrol   \n",
              "1275    AWD (All Wheel Drive)   Injection                88.0    Diesel   \n",
              "\n",
              "      Height  Length   Width  Doors City_Mileage  ARAI_Certified_Mileage  \\\n",
              "1271  1495.0  4440.0  1695.0    4.0         22.6                   25.10   \n",
              "1272  1495.0  4440.0  1695.0    4.0         22.6                   25.10   \n",
              "1273  1495.0  4440.0  1695.0    4.0           18                   22.60   \n",
              "1274  1495.0  4440.0  1695.0    4.0         14.3                   17.80   \n",
              "1275  1900.0  4900.0  1875.0    5.0         8.25                   11.56   \n",
              "\n",
              "      Power  Torque       Type  Wheelbase  \n",
              "1271  100.0   200.0     Manual     2600.0  \n",
              "1272  100.0   200.0     Manual     2600.0  \n",
              "1273  119.0   145.0  Automatic     2600.0  \n",
              "1274  119.0   145.0  Automatic     2600.0  \n",
              "1275  202.0   441.0  Automatic     2780.0  "
            ],
            "text/html": [
              "\n",
              "  <div id=\"df-23d5852b-52c8-4af2-b3a1-91f04cfc9f17\">\n",
              "    <div class=\"colab-df-container\">\n",
              "      <div>\n",
              "<style scoped>\n",
              "    .dataframe tbody tr th:only-of-type {\n",
              "        vertical-align: middle;\n",
              "    }\n",
              "\n",
              "    .dataframe tbody tr th {\n",
              "        vertical-align: top;\n",
              "    }\n",
              "\n",
              "    .dataframe thead th {\n",
              "        text-align: right;\n",
              "    }\n",
              "</style>\n",
              "<table border=\"1\" class=\"dataframe\">\n",
              "  <thead>\n",
              "    <tr style=\"text-align: right;\">\n",
              "      <th></th>\n",
              "      <th>Make</th>\n",
              "      <th>Model</th>\n",
              "      <th>Variant</th>\n",
              "      <th>Price</th>\n",
              "      <th>Displacement</th>\n",
              "      <th>Cylinders</th>\n",
              "      <th>Drivetrain</th>\n",
              "      <th>Fuel_System</th>\n",
              "      <th>Fuel_Tank_Capacity</th>\n",
              "      <th>Fuel_Type</th>\n",
              "      <th>Height</th>\n",
              "      <th>Length</th>\n",
              "      <th>Width</th>\n",
              "      <th>Doors</th>\n",
              "      <th>City_Mileage</th>\n",
              "      <th>ARAI_Certified_Mileage</th>\n",
              "      <th>Power</th>\n",
              "      <th>Torque</th>\n",
              "      <th>Type</th>\n",
              "      <th>Wheelbase</th>\n",
              "    </tr>\n",
              "  </thead>\n",
              "  <tbody>\n",
              "    <tr>\n",
              "      <th>1271</th>\n",
              "      <td>Honda</td>\n",
              "      <td>City</td>\n",
              "      <td>Vx Mt Diesel</td>\n",
              "      <td>1,302,000</td>\n",
              "      <td>1498.0</td>\n",
              "      <td>4.0</td>\n",
              "      <td>FWD (Front Wheel Drive)</td>\n",
              "      <td>Injection</td>\n",
              "      <td>40.0</td>\n",
              "      <td>Diesel</td>\n",
              "      <td>1495.0</td>\n",
              "      <td>4440.0</td>\n",
              "      <td>1695.0</td>\n",
              "      <td>4.0</td>\n",
              "      <td>22.6</td>\n",
              "      <td>25.10</td>\n",
              "      <td>100.0</td>\n",
              "      <td>200.0</td>\n",
              "      <td>Manual</td>\n",
              "      <td>2600.0</td>\n",
              "    </tr>\n",
              "    <tr>\n",
              "      <th>1272</th>\n",
              "      <td>Honda</td>\n",
              "      <td>City</td>\n",
              "      <td>Zx Mt Diesel</td>\n",
              "      <td>1,421,000</td>\n",
              "      <td>1498.0</td>\n",
              "      <td>4.0</td>\n",
              "      <td>FWD (Front Wheel Drive)</td>\n",
              "      <td>Injection</td>\n",
              "      <td>40.0</td>\n",
              "      <td>Diesel</td>\n",
              "      <td>1495.0</td>\n",
              "      <td>4440.0</td>\n",
              "      <td>1695.0</td>\n",
              "      <td>4.0</td>\n",
              "      <td>22.6</td>\n",
              "      <td>25.10</td>\n",
              "      <td>100.0</td>\n",
              "      <td>200.0</td>\n",
              "      <td>Manual</td>\n",
              "      <td>2600.0</td>\n",
              "    </tr>\n",
              "    <tr>\n",
              "      <th>1273</th>\n",
              "      <td>Honda</td>\n",
              "      <td>City</td>\n",
              "      <td>Zx Cvt Petrol</td>\n",
              "      <td>1,431,000</td>\n",
              "      <td>1497.0</td>\n",
              "      <td>4.0</td>\n",
              "      <td>FWD (Front Wheel Drive)</td>\n",
              "      <td>Injection</td>\n",
              "      <td>40.0</td>\n",
              "      <td>Petrol</td>\n",
              "      <td>1495.0</td>\n",
              "      <td>4440.0</td>\n",
              "      <td>1695.0</td>\n",
              "      <td>4.0</td>\n",
              "      <td>18</td>\n",
              "      <td>22.60</td>\n",
              "      <td>119.0</td>\n",
              "      <td>145.0</td>\n",
              "      <td>Automatic</td>\n",
              "      <td>2600.0</td>\n",
              "    </tr>\n",
              "    <tr>\n",
              "      <th>1274</th>\n",
              "      <td>Honda</td>\n",
              "      <td>City</td>\n",
              "      <td>V Cvt Petrol</td>\n",
              "      <td>1,201,000</td>\n",
              "      <td>1497.0</td>\n",
              "      <td>4.0</td>\n",
              "      <td>FWD (Front Wheel Drive)</td>\n",
              "      <td>Injection</td>\n",
              "      <td>40.0</td>\n",
              "      <td>Petrol</td>\n",
              "      <td>1495.0</td>\n",
              "      <td>4440.0</td>\n",
              "      <td>1695.0</td>\n",
              "      <td>4.0</td>\n",
              "      <td>14.3</td>\n",
              "      <td>17.80</td>\n",
              "      <td>119.0</td>\n",
              "      <td>145.0</td>\n",
              "      <td>Automatic</td>\n",
              "      <td>2600.0</td>\n",
              "    </tr>\n",
              "    <tr>\n",
              "      <th>1275</th>\n",
              "      <td>Mitsubishi</td>\n",
              "      <td>Montero</td>\n",
              "      <td>3.2 At</td>\n",
              "      <td>6,862,560</td>\n",
              "      <td>3200.0</td>\n",
              "      <td>4.0</td>\n",
              "      <td>AWD (All Wheel Drive)</td>\n",
              "      <td>Injection</td>\n",
              "      <td>88.0</td>\n",
              "      <td>Diesel</td>\n",
              "      <td>1900.0</td>\n",
              "      <td>4900.0</td>\n",
              "      <td>1875.0</td>\n",
              "      <td>5.0</td>\n",
              "      <td>8.25</td>\n",
              "      <td>11.56</td>\n",
              "      <td>202.0</td>\n",
              "      <td>441.0</td>\n",
              "      <td>Automatic</td>\n",
              "      <td>2780.0</td>\n",
              "    </tr>\n",
              "  </tbody>\n",
              "</table>\n",
              "</div>\n",
              "      <button class=\"colab-df-convert\" onclick=\"convertToInteractive('df-23d5852b-52c8-4af2-b3a1-91f04cfc9f17')\"\n",
              "              title=\"Convert this dataframe to an interactive table.\"\n",
              "              style=\"display:none;\">\n",
              "        \n",
              "  <svg xmlns=\"http://www.w3.org/2000/svg\" height=\"24px\"viewBox=\"0 0 24 24\"\n",
              "       width=\"24px\">\n",
              "    <path d=\"M0 0h24v24H0V0z\" fill=\"none\"/>\n",
              "    <path d=\"M18.56 5.44l.94 2.06.94-2.06 2.06-.94-2.06-.94-.94-2.06-.94 2.06-2.06.94zm-11 1L8.5 8.5l.94-2.06 2.06-.94-2.06-.94L8.5 2.5l-.94 2.06-2.06.94zm10 10l.94 2.06.94-2.06 2.06-.94-2.06-.94-.94-2.06-.94 2.06-2.06.94z\"/><path d=\"M17.41 7.96l-1.37-1.37c-.4-.4-.92-.59-1.43-.59-.52 0-1.04.2-1.43.59L10.3 9.45l-7.72 7.72c-.78.78-.78 2.05 0 2.83L4 21.41c.39.39.9.59 1.41.59.51 0 1.02-.2 1.41-.59l7.78-7.78 2.81-2.81c.8-.78.8-2.07 0-2.86zM5.41 20L4 18.59l7.72-7.72 1.47 1.35L5.41 20z\"/>\n",
              "  </svg>\n",
              "      </button>\n",
              "      \n",
              "  <style>\n",
              "    .colab-df-container {\n",
              "      display:flex;\n",
              "      flex-wrap:wrap;\n",
              "      gap: 12px;\n",
              "    }\n",
              "\n",
              "    .colab-df-convert {\n",
              "      background-color: #E8F0FE;\n",
              "      border: none;\n",
              "      border-radius: 50%;\n",
              "      cursor: pointer;\n",
              "      display: none;\n",
              "      fill: #1967D2;\n",
              "      height: 32px;\n",
              "      padding: 0 0 0 0;\n",
              "      width: 32px;\n",
              "    }\n",
              "\n",
              "    .colab-df-convert:hover {\n",
              "      background-color: #E2EBFA;\n",
              "      box-shadow: 0px 1px 2px rgba(60, 64, 67, 0.3), 0px 1px 3px 1px rgba(60, 64, 67, 0.15);\n",
              "      fill: #174EA6;\n",
              "    }\n",
              "\n",
              "    [theme=dark] .colab-df-convert {\n",
              "      background-color: #3B4455;\n",
              "      fill: #D2E3FC;\n",
              "    }\n",
              "\n",
              "    [theme=dark] .colab-df-convert:hover {\n",
              "      background-color: #434B5C;\n",
              "      box-shadow: 0px 1px 3px 1px rgba(0, 0, 0, 0.15);\n",
              "      filter: drop-shadow(0px 1px 2px rgba(0, 0, 0, 0.3));\n",
              "      fill: #FFFFFF;\n",
              "    }\n",
              "  </style>\n",
              "\n",
              "      <script>\n",
              "        const buttonEl =\n",
              "          document.querySelector('#df-23d5852b-52c8-4af2-b3a1-91f04cfc9f17 button.colab-df-convert');\n",
              "        buttonEl.style.display =\n",
              "          google.colab.kernel.accessAllowed ? 'block' : 'none';\n",
              "\n",
              "        async function convertToInteractive(key) {\n",
              "          const element = document.querySelector('#df-23d5852b-52c8-4af2-b3a1-91f04cfc9f17');\n",
              "          const dataTable =\n",
              "            await google.colab.kernel.invokeFunction('convertToInteractive',\n",
              "                                                     [key], {});\n",
              "          if (!dataTable) return;\n",
              "\n",
              "          const docLinkHtml = 'Like what you see? Visit the ' +\n",
              "            '<a target=\"_blank\" href=https://colab.research.google.com/notebooks/data_table.ipynb>data table notebook</a>'\n",
              "            + ' to learn more about interactive tables.';\n",
              "          element.innerHTML = '';\n",
              "          dataTable['output_type'] = 'display_data';\n",
              "          await google.colab.output.renderOutput(dataTable, element);\n",
              "          const docLink = document.createElement('div');\n",
              "          docLink.innerHTML = docLinkHtml;\n",
              "          element.appendChild(docLink);\n",
              "        }\n",
              "      </script>\n",
              "    </div>\n",
              "  </div>\n",
              "  "
            ]
          },
          "metadata": {},
          "execution_count": 29
        }
      ],
      "source": [
        "df.tail(5)"
      ]
    },
    {
      "cell_type": "markdown",
      "metadata": {
        "id": "Mnk3XvV7AWON"
      },
      "source": [
        "Checking the type of data"
      ]
    },
    {
      "cell_type": "code",
      "execution_count": 30,
      "metadata": {
        "colab": {
          "base_uri": "https://localhost:8080/"
        },
        "id": "9lfN2jozAW_d",
        "outputId": "f91a12e8-144e-4cbd-8ab6-5f3e746941f9"
      },
      "outputs": [
        {
          "output_type": "execute_result",
          "data": {
            "text/plain": [
              "Make                       object\n",
              "Model                      object\n",
              "Variant                    object\n",
              "Price                      object\n",
              "Displacement              float64\n",
              "Cylinders                 float64\n",
              "Drivetrain                 object\n",
              "Fuel_System                object\n",
              "Fuel_Tank_Capacity        float64\n",
              "Fuel_Type                  object\n",
              "Height                    float64\n",
              "Length                    float64\n",
              "Width                     float64\n",
              "Doors                     float64\n",
              "City_Mileage               object\n",
              "ARAI_Certified_Mileage    float64\n",
              "Power                     float64\n",
              "Torque                    float64\n",
              "Type                       object\n",
              "Wheelbase                 float64\n",
              "dtype: object"
            ]
          },
          "metadata": {},
          "execution_count": 30
        }
      ],
      "source": [
        "df.dtypes"
      ]
    },
    {
      "cell_type": "markdown",
      "metadata": {
        "id": "_Csfza4eAcx4"
      },
      "source": [
        "Dropping the duplicate rows"
      ]
    },
    {
      "cell_type": "code",
      "execution_count": 31,
      "metadata": {
        "colab": {
          "base_uri": "https://localhost:8080/"
        },
        "id": "PvL5t98SAbZ3",
        "outputId": "dde619e1-3354-4578-92f9-91160e12e1d2"
      },
      "outputs": [
        {
          "output_type": "stream",
          "name": "stdout",
          "text": [
            "number of duplicate rows:  (9, 20)\n"
          ]
        }
      ],
      "source": [
        "duplicate_rows_df = df[df.duplicated()]\n",
        "print(\"number of duplicate rows: \", duplicate_rows_df.shape)"
      ]
    },
    {
      "cell_type": "markdown",
      "metadata": {
        "id": "m4-Uhjq4Ah0_"
      },
      "source": [
        "\n",
        "Now lets remove the duplicate data because its ok to remove them"
      ]
    },
    {
      "cell_type": "code",
      "execution_count": 32,
      "metadata": {
        "colab": {
          "base_uri": "https://localhost:8080/"
        },
        "id": "LEQX-HSVAf6O",
        "outputId": "5757da5a-a8b3-4b6c-87ca-d1c91528a69c"
      },
      "outputs": [
        {
          "output_type": "execute_result",
          "data": {
            "text/plain": [
              "Make                      1201\n",
              "Model                     1276\n",
              "Variant                   1276\n",
              "Price                     1276\n",
              "Displacement              1264\n",
              "Cylinders                 1210\n",
              "Drivetrain                1269\n",
              "Fuel_System               1268\n",
              "Fuel_Tank_Capacity        1207\n",
              "Fuel_Type                 1276\n",
              "Height                    1275\n",
              "Length                    1276\n",
              "Width                     1264\n",
              "Doors                     1272\n",
              "City_Mileage               721\n",
              "ARAI_Certified_Mileage    1162\n",
              "Power                     1276\n",
              "Torque                    1274\n",
              "Type                      1275\n",
              "Wheelbase                 1256\n",
              "dtype: int64"
            ]
          },
          "metadata": {},
          "execution_count": 32
        }
      ],
      "source": [
        "df.count()   #used to count the number of rows"
      ]
    },
    {
      "cell_type": "code",
      "execution_count": 33,
      "metadata": {
        "colab": {
          "base_uri": "https://localhost:8080/",
          "height": 444
        },
        "id": "VMWWGuzjAnos",
        "outputId": "27418fdd-337b-4273-e07e-ceaa1df2a67e"
      },
      "outputs": [
        {
          "output_type": "execute_result",
          "data": {
            "text/plain": [
              "   Make      Model  Variant    Price  Displacement  Cylinders  \\\n",
              "0  Tata  Nano Genx       Xt  292,667         624.0        2.0   \n",
              "1  Tata  Nano Genx       Xe  236,447         624.0        2.0   \n",
              "2  Tata  Nano Genx  Emax Xm  296,661         624.0        2.0   \n",
              "3  Tata  Nano Genx      Xta  334,768         624.0        2.0   \n",
              "4  Tata  Nano Genx       Xm  272,223         624.0        2.0   \n",
              "\n",
              "               Drivetrain Fuel_System  Fuel_Tank_Capacity Fuel_Type  Height  \\\n",
              "0  RWD (Rear Wheel Drive)   Injection                24.0    Petrol  1652.0   \n",
              "1  RWD (Rear Wheel Drive)   Injection                24.0    Petrol  1652.0   \n",
              "2  RWD (Rear Wheel Drive)   Injection                15.0       CNG  1652.0   \n",
              "3  RWD (Rear Wheel Drive)   Injection                24.0    Petrol  1652.0   \n",
              "4  RWD (Rear Wheel Drive)   Injection                24.0    Petrol  1652.0   \n",
              "\n",
              "   Length   Width  Doors City_Mileage  ARAI_Certified_Mileage  Power  Torque  \\\n",
              "0  3164.0  1750.0    5.0         23.6                    23.6   38.0    51.0   \n",
              "1  3164.0  1750.0    5.0         23.6                    23.6   38.0    51.0   \n",
              "2  3164.0  1750.0    4.0          NaN                     NaN   38.0    51.0   \n",
              "3  3164.0  1750.0    5.0         23.6                    21.9   38.0    51.0   \n",
              "4  3164.0  1750.0    5.0         23.6                    23.6   38.0    51.0   \n",
              "\n",
              "        Type  Wheelbase  \n",
              "0     Manual     2230.0  \n",
              "1     Manual     2230.0  \n",
              "2     Manual     2230.0  \n",
              "3  Automatic     2230.0  \n",
              "4     Manual     2230.0  "
            ],
            "text/html": [
              "\n",
              "  <div id=\"df-f25b37d7-83c9-4118-ae7e-b31741082212\">\n",
              "    <div class=\"colab-df-container\">\n",
              "      <div>\n",
              "<style scoped>\n",
              "    .dataframe tbody tr th:only-of-type {\n",
              "        vertical-align: middle;\n",
              "    }\n",
              "\n",
              "    .dataframe tbody tr th {\n",
              "        vertical-align: top;\n",
              "    }\n",
              "\n",
              "    .dataframe thead th {\n",
              "        text-align: right;\n",
              "    }\n",
              "</style>\n",
              "<table border=\"1\" class=\"dataframe\">\n",
              "  <thead>\n",
              "    <tr style=\"text-align: right;\">\n",
              "      <th></th>\n",
              "      <th>Make</th>\n",
              "      <th>Model</th>\n",
              "      <th>Variant</th>\n",
              "      <th>Price</th>\n",
              "      <th>Displacement</th>\n",
              "      <th>Cylinders</th>\n",
              "      <th>Drivetrain</th>\n",
              "      <th>Fuel_System</th>\n",
              "      <th>Fuel_Tank_Capacity</th>\n",
              "      <th>Fuel_Type</th>\n",
              "      <th>Height</th>\n",
              "      <th>Length</th>\n",
              "      <th>Width</th>\n",
              "      <th>Doors</th>\n",
              "      <th>City_Mileage</th>\n",
              "      <th>ARAI_Certified_Mileage</th>\n",
              "      <th>Power</th>\n",
              "      <th>Torque</th>\n",
              "      <th>Type</th>\n",
              "      <th>Wheelbase</th>\n",
              "    </tr>\n",
              "  </thead>\n",
              "  <tbody>\n",
              "    <tr>\n",
              "      <th>0</th>\n",
              "      <td>Tata</td>\n",
              "      <td>Nano Genx</td>\n",
              "      <td>Xt</td>\n",
              "      <td>292,667</td>\n",
              "      <td>624.0</td>\n",
              "      <td>2.0</td>\n",
              "      <td>RWD (Rear Wheel Drive)</td>\n",
              "      <td>Injection</td>\n",
              "      <td>24.0</td>\n",
              "      <td>Petrol</td>\n",
              "      <td>1652.0</td>\n",
              "      <td>3164.0</td>\n",
              "      <td>1750.0</td>\n",
              "      <td>5.0</td>\n",
              "      <td>23.6</td>\n",
              "      <td>23.6</td>\n",
              "      <td>38.0</td>\n",
              "      <td>51.0</td>\n",
              "      <td>Manual</td>\n",
              "      <td>2230.0</td>\n",
              "    </tr>\n",
              "    <tr>\n",
              "      <th>1</th>\n",
              "      <td>Tata</td>\n",
              "      <td>Nano Genx</td>\n",
              "      <td>Xe</td>\n",
              "      <td>236,447</td>\n",
              "      <td>624.0</td>\n",
              "      <td>2.0</td>\n",
              "      <td>RWD (Rear Wheel Drive)</td>\n",
              "      <td>Injection</td>\n",
              "      <td>24.0</td>\n",
              "      <td>Petrol</td>\n",
              "      <td>1652.0</td>\n",
              "      <td>3164.0</td>\n",
              "      <td>1750.0</td>\n",
              "      <td>5.0</td>\n",
              "      <td>23.6</td>\n",
              "      <td>23.6</td>\n",
              "      <td>38.0</td>\n",
              "      <td>51.0</td>\n",
              "      <td>Manual</td>\n",
              "      <td>2230.0</td>\n",
              "    </tr>\n",
              "    <tr>\n",
              "      <th>2</th>\n",
              "      <td>Tata</td>\n",
              "      <td>Nano Genx</td>\n",
              "      <td>Emax Xm</td>\n",
              "      <td>296,661</td>\n",
              "      <td>624.0</td>\n",
              "      <td>2.0</td>\n",
              "      <td>RWD (Rear Wheel Drive)</td>\n",
              "      <td>Injection</td>\n",
              "      <td>15.0</td>\n",
              "      <td>CNG</td>\n",
              "      <td>1652.0</td>\n",
              "      <td>3164.0</td>\n",
              "      <td>1750.0</td>\n",
              "      <td>4.0</td>\n",
              "      <td>NaN</td>\n",
              "      <td>NaN</td>\n",
              "      <td>38.0</td>\n",
              "      <td>51.0</td>\n",
              "      <td>Manual</td>\n",
              "      <td>2230.0</td>\n",
              "    </tr>\n",
              "    <tr>\n",
              "      <th>3</th>\n",
              "      <td>Tata</td>\n",
              "      <td>Nano Genx</td>\n",
              "      <td>Xta</td>\n",
              "      <td>334,768</td>\n",
              "      <td>624.0</td>\n",
              "      <td>2.0</td>\n",
              "      <td>RWD (Rear Wheel Drive)</td>\n",
              "      <td>Injection</td>\n",
              "      <td>24.0</td>\n",
              "      <td>Petrol</td>\n",
              "      <td>1652.0</td>\n",
              "      <td>3164.0</td>\n",
              "      <td>1750.0</td>\n",
              "      <td>5.0</td>\n",
              "      <td>23.6</td>\n",
              "      <td>21.9</td>\n",
              "      <td>38.0</td>\n",
              "      <td>51.0</td>\n",
              "      <td>Automatic</td>\n",
              "      <td>2230.0</td>\n",
              "    </tr>\n",
              "    <tr>\n",
              "      <th>4</th>\n",
              "      <td>Tata</td>\n",
              "      <td>Nano Genx</td>\n",
              "      <td>Xm</td>\n",
              "      <td>272,223</td>\n",
              "      <td>624.0</td>\n",
              "      <td>2.0</td>\n",
              "      <td>RWD (Rear Wheel Drive)</td>\n",
              "      <td>Injection</td>\n",
              "      <td>24.0</td>\n",
              "      <td>Petrol</td>\n",
              "      <td>1652.0</td>\n",
              "      <td>3164.0</td>\n",
              "      <td>1750.0</td>\n",
              "      <td>5.0</td>\n",
              "      <td>23.6</td>\n",
              "      <td>23.6</td>\n",
              "      <td>38.0</td>\n",
              "      <td>51.0</td>\n",
              "      <td>Manual</td>\n",
              "      <td>2230.0</td>\n",
              "    </tr>\n",
              "  </tbody>\n",
              "</table>\n",
              "</div>\n",
              "      <button class=\"colab-df-convert\" onclick=\"convertToInteractive('df-f25b37d7-83c9-4118-ae7e-b31741082212')\"\n",
              "              title=\"Convert this dataframe to an interactive table.\"\n",
              "              style=\"display:none;\">\n",
              "        \n",
              "  <svg xmlns=\"http://www.w3.org/2000/svg\" height=\"24px\"viewBox=\"0 0 24 24\"\n",
              "       width=\"24px\">\n",
              "    <path d=\"M0 0h24v24H0V0z\" fill=\"none\"/>\n",
              "    <path d=\"M18.56 5.44l.94 2.06.94-2.06 2.06-.94-2.06-.94-.94-2.06-.94 2.06-2.06.94zm-11 1L8.5 8.5l.94-2.06 2.06-.94-2.06-.94L8.5 2.5l-.94 2.06-2.06.94zm10 10l.94 2.06.94-2.06 2.06-.94-2.06-.94-.94-2.06-.94 2.06-2.06.94z\"/><path d=\"M17.41 7.96l-1.37-1.37c-.4-.4-.92-.59-1.43-.59-.52 0-1.04.2-1.43.59L10.3 9.45l-7.72 7.72c-.78.78-.78 2.05 0 2.83L4 21.41c.39.39.9.59 1.41.59.51 0 1.02-.2 1.41-.59l7.78-7.78 2.81-2.81c.8-.78.8-2.07 0-2.86zM5.41 20L4 18.59l7.72-7.72 1.47 1.35L5.41 20z\"/>\n",
              "  </svg>\n",
              "      </button>\n",
              "      \n",
              "  <style>\n",
              "    .colab-df-container {\n",
              "      display:flex;\n",
              "      flex-wrap:wrap;\n",
              "      gap: 12px;\n",
              "    }\n",
              "\n",
              "    .colab-df-convert {\n",
              "      background-color: #E8F0FE;\n",
              "      border: none;\n",
              "      border-radius: 50%;\n",
              "      cursor: pointer;\n",
              "      display: none;\n",
              "      fill: #1967D2;\n",
              "      height: 32px;\n",
              "      padding: 0 0 0 0;\n",
              "      width: 32px;\n",
              "    }\n",
              "\n",
              "    .colab-df-convert:hover {\n",
              "      background-color: #E2EBFA;\n",
              "      box-shadow: 0px 1px 2px rgba(60, 64, 67, 0.3), 0px 1px 3px 1px rgba(60, 64, 67, 0.15);\n",
              "      fill: #174EA6;\n",
              "    }\n",
              "\n",
              "    [theme=dark] .colab-df-convert {\n",
              "      background-color: #3B4455;\n",
              "      fill: #D2E3FC;\n",
              "    }\n",
              "\n",
              "    [theme=dark] .colab-df-convert:hover {\n",
              "      background-color: #434B5C;\n",
              "      box-shadow: 0px 1px 3px 1px rgba(0, 0, 0, 0.15);\n",
              "      filter: drop-shadow(0px 1px 2px rgba(0, 0, 0, 0.3));\n",
              "      fill: #FFFFFF;\n",
              "    }\n",
              "  </style>\n",
              "\n",
              "      <script>\n",
              "        const buttonEl =\n",
              "          document.querySelector('#df-f25b37d7-83c9-4118-ae7e-b31741082212 button.colab-df-convert');\n",
              "        buttonEl.style.display =\n",
              "          google.colab.kernel.accessAllowed ? 'block' : 'none';\n",
              "\n",
              "        async function convertToInteractive(key) {\n",
              "          const element = document.querySelector('#df-f25b37d7-83c9-4118-ae7e-b31741082212');\n",
              "          const dataTable =\n",
              "            await google.colab.kernel.invokeFunction('convertToInteractive',\n",
              "                                                     [key], {});\n",
              "          if (!dataTable) return;\n",
              "\n",
              "          const docLinkHtml = 'Like what you see? Visit the ' +\n",
              "            '<a target=\"_blank\" href=https://colab.research.google.com/notebooks/data_table.ipynb>data table notebook</a>'\n",
              "            + ' to learn more about interactive tables.';\n",
              "          element.innerHTML = '';\n",
              "          dataTable['output_type'] = 'display_data';\n",
              "          await google.colab.output.renderOutput(dataTable, element);\n",
              "          const docLink = document.createElement('div');\n",
              "          docLink.innerHTML = docLinkHtml;\n",
              "          element.appendChild(docLink);\n",
              "        }\n",
              "      </script>\n",
              "    </div>\n",
              "  </div>\n",
              "  "
            ]
          },
          "metadata": {},
          "execution_count": 33
        }
      ],
      "source": [
        "df = df.drop_duplicates()\n",
        "df.head(5)"
      ]
    },
    {
      "cell_type": "code",
      "execution_count": 34,
      "metadata": {
        "colab": {
          "base_uri": "https://localhost:8080/"
        },
        "id": "S7n1-R50ArnQ",
        "outputId": "e07353a9-5d69-4df3-ab98-52a412313a39"
      },
      "outputs": [
        {
          "output_type": "execute_result",
          "data": {
            "text/plain": [
              "Make                      1192\n",
              "Model                     1267\n",
              "Variant                   1267\n",
              "Price                     1267\n",
              "Displacement              1255\n",
              "Cylinders                 1201\n",
              "Drivetrain                1260\n",
              "Fuel_System               1259\n",
              "Fuel_Tank_Capacity        1198\n",
              "Fuel_Type                 1267\n",
              "Height                    1266\n",
              "Length                    1267\n",
              "Width                     1255\n",
              "Doors                     1263\n",
              "City_Mileage               713\n",
              "ARAI_Certified_Mileage    1153\n",
              "Power                     1267\n",
              "Torque                    1265\n",
              "Type                      1266\n",
              "Wheelbase                 1247\n",
              "dtype: int64"
            ]
          },
          "metadata": {},
          "execution_count": 34
        }
      ],
      "source": [
        "df.count()"
      ]
    },
    {
      "cell_type": "markdown",
      "metadata": {
        "id": "KaL1LVUlAtM6"
      },
      "source": [
        "Dropping the missing or null values"
      ]
    },
    {
      "cell_type": "code",
      "execution_count": 35,
      "metadata": {
        "colab": {
          "base_uri": "https://localhost:8080/"
        },
        "id": "14VloMdNAvFM",
        "outputId": "8ddf85e8-79dd-417e-a3e6-984bd3c45711"
      },
      "outputs": [
        {
          "output_type": "stream",
          "name": "stdout",
          "text": [
            "Make                       75\n",
            "Model                       0\n",
            "Variant                     0\n",
            "Price                       0\n",
            "Displacement               12\n",
            "Cylinders                  66\n",
            "Drivetrain                  7\n",
            "Fuel_System                 8\n",
            "Fuel_Tank_Capacity         69\n",
            "Fuel_Type                   0\n",
            "Height                      1\n",
            "Length                      0\n",
            "Width                      12\n",
            "Doors                       4\n",
            "City_Mileage              554\n",
            "ARAI_Certified_Mileage    114\n",
            "Power                       0\n",
            "Torque                      2\n",
            "Type                        1\n",
            "Wheelbase                  20\n",
            "dtype: int64\n"
          ]
        }
      ],
      "source": [
        "print(df.isnull().sum())"
      ]
    },
    {
      "cell_type": "code",
      "execution_count": 36,
      "metadata": {
        "colab": {
          "base_uri": "https://localhost:8080/"
        },
        "id": "AEaKEbGFAyAc",
        "outputId": "d636adde-ece3-4d83-8844-0f26f73af293"
      },
      "outputs": [
        {
          "output_type": "execute_result",
          "data": {
            "text/plain": [
              "Make                      608\n",
              "Model                     608\n",
              "Variant                   608\n",
              "Price                     608\n",
              "Displacement              608\n",
              "Cylinders                 608\n",
              "Drivetrain                608\n",
              "Fuel_System               608\n",
              "Fuel_Tank_Capacity        608\n",
              "Fuel_Type                 608\n",
              "Height                    608\n",
              "Length                    608\n",
              "Width                     608\n",
              "Doors                     608\n",
              "City_Mileage              608\n",
              "ARAI_Certified_Mileage    608\n",
              "Power                     608\n",
              "Torque                    608\n",
              "Type                      608\n",
              "Wheelbase                 608\n",
              "dtype: int64"
            ]
          },
          "metadata": {},
          "execution_count": 36
        }
      ],
      "source": [
        "df = df.dropna()    # Dropping the missing values.\n",
        "df.count()"
      ]
    },
    {
      "cell_type": "code",
      "execution_count": 37,
      "metadata": {
        "colab": {
          "base_uri": "https://localhost:8080/"
        },
        "id": "IRejVHphA3In",
        "outputId": "22ff6ac6-7623-49da-b547-9f5f541559a8"
      },
      "outputs": [
        {
          "output_type": "stream",
          "name": "stdout",
          "text": [
            "Make                      0\n",
            "Model                     0\n",
            "Variant                   0\n",
            "Price                     0\n",
            "Displacement              0\n",
            "Cylinders                 0\n",
            "Drivetrain                0\n",
            "Fuel_System               0\n",
            "Fuel_Tank_Capacity        0\n",
            "Fuel_Type                 0\n",
            "Height                    0\n",
            "Length                    0\n",
            "Width                     0\n",
            "Doors                     0\n",
            "City_Mileage              0\n",
            "ARAI_Certified_Mileage    0\n",
            "Power                     0\n",
            "Torque                    0\n",
            "Type                      0\n",
            "Wheelbase                 0\n",
            "dtype: int64\n"
          ]
        }
      ],
      "source": [
        "print(df.isnull().sum())   # After dropping the values"
      ]
    },
    {
      "cell_type": "markdown",
      "metadata": {
        "id": "r2BjNoDBBoBA"
      },
      "source": [
        "Converting the object values to integer type.\n",
        "\n",
        "While having a look at the data, the Price was stored as an object type. This is a serious problem because it is impossible to plot those values on a graph because it is a primary requirement that during plotting a graph all the values must be of type integer data. The author has stored, the Price in a different format (Rs2,34,000) so I had to remove the formatting and then convert them to an integer."
      ]
    },
    {
      "cell_type": "code",
      "execution_count": 38,
      "metadata": {
        "id": "4pAiJJH2BowS"
      },
      "outputs": [],
      "source": [
        "# Removing the formatting\n",
        "df['Price'] = df['Price'].astype(str)\n",
        "df['Price'] = [x.replace('Rs',' ') for x in df['Price']]\n",
        "df['Price'] = [x.replace(',', '') for x in df['Price']]  "
      ]
    },
    {
      "cell_type": "code",
      "execution_count": 39,
      "metadata": {
        "id": "PzRntFIbBxhQ"
      },
      "outputs": [],
      "source": [
        "df['Price']=pd.to_numeric(df['Price'],errors='coerce')"
      ]
    },
    {
      "cell_type": "markdown",
      "source": [
        "**Clustering**\n",
        "\n",
        "The type of clustering used here is k-means clustering k-means clustering is a method of vector quantization, originally from signal processing, that aims to partition n observations into k clusters in which each observation belongs to the cluster with the nearest mean (cluster centers or cluster centroid), serving as a prototype of the cluster. This results in a partitioning of the data space into Voronoi cells. k-means clustering minimizes within-cluster variances (squared Euclidean distances)"
      ],
      "metadata": {
        "id": "62oAqpa-xUgs"
      }
    },
    {
      "cell_type": "code",
      "execution_count": 40,
      "metadata": {
        "id": "VMUQIIvdhzME"
      },
      "outputs": [],
      "source": [
        "import seaborn as sns\n",
        "import matplotlib.pyplot as plt\n",
        "%matplotlib inline"
      ]
    },
    {
      "cell_type": "markdown",
      "metadata": {
        "id": "IrIVonUxh2TR"
      },
      "source": [
        "Creating some Data"
      ]
    },
    {
      "cell_type": "code",
      "execution_count": 41,
      "metadata": {
        "id": "FjLGDW-Ih3oL"
      },
      "outputs": [],
      "source": [
        "from sklearn.datasets import make_blobs"
      ]
    },
    {
      "cell_type": "code",
      "execution_count": 42,
      "metadata": {
        "id": "DAFcyHvXh5hv"
      },
      "outputs": [],
      "source": [
        "# Create Data\n",
        "data = make_blobs(n_samples=200, n_features=2, \n",
        "centers=4, cluster_std=1.8,random_state=101)"
      ]
    },
    {
      "cell_type": "markdown",
      "metadata": {
        "id": "dhfQOo_qh97L"
      },
      "source": [
        "Visualize Data"
      ]
    },
    {
      "cell_type": "code",
      "execution_count": 43,
      "metadata": {
        "colab": {
          "base_uri": "https://localhost:8080/",
          "height": 282
        },
        "id": "575Km0vDh-cX",
        "outputId": "b1b04e6c-f426-4ad5-ee43-8156e945b4f0"
      },
      "outputs": [
        {
          "output_type": "execute_result",
          "data": {
            "text/plain": [
              "<matplotlib.collections.PathCollection at 0x7f1e41944750>"
            ]
          },
          "metadata": {},
          "execution_count": 43
        },
        {
          "output_type": "display_data",
          "data": {
            "text/plain": [
              "<Figure size 432x288 with 1 Axes>"
            ],
            "image/png": "[encoded data removed]"
          },
          "metadata": {
            "needs_background": "light"
          }
        }
      ],
      "source": [
        "plt.scatter(data[0][:,0],data[0][:,1],c=data[1])"
      ]
    },
    {
      "cell_type": "code",
      "execution_count": 44,
      "metadata": {
        "colab": {
          "base_uri": "https://localhost:8080/",
          "height": 282
        },
        "id": "yhrMr_TKiDLR",
        "outputId": "256f0605-8a7e-47fd-cf8c-2cc5ec3dd7cb"
      },
      "outputs": [
        {
          "output_type": "execute_result",
          "data": {
            "text/plain": [
              "<matplotlib.collections.PathCollection at 0x7f1e419445d0>"
            ]
          },
          "metadata": {},
          "execution_count": 44
        },
        {
          "output_type": "display_data",
          "data": {
            "text/plain": [
              "<Figure size 432x288 with 1 Axes>"
            ],
            "image/png": "[encoded data removed]"
          },
          "metadata": {
            "needs_background": "light"
          }
        }
      ],
      "source": [
        "plt.scatter(data[0][:,0],data[0][:,1],c=data[1],cmap='rainbow')"
      ]
    },
    {
      "cell_type": "markdown",
      "metadata": {
        "id": "aLBoeB9XiFkd"
      },
      "source": [
        "Creating the Clusters"
      ]
    },
    {
      "cell_type": "code",
      "execution_count": 45,
      "metadata": {
        "id": "T75qtu-UiGPr"
      },
      "outputs": [],
      "source": [
        "from sklearn.cluster import KMeans"
      ]
    },
    {
      "cell_type": "code",
      "execution_count": 46,
      "metadata": {
        "id": "jJLidkTLiNsP"
      },
      "outputs": [],
      "source": [
        "kmeans = KMeans(n_clusters=4)"
      ]
    },
    {
      "cell_type": "code",
      "execution_count": 47,
      "metadata": {
        "colab": {
          "base_uri": "https://localhost:8080/"
        },
        "id": "-9jA5jXfiOPy",
        "outputId": "eff07459-d2aa-423e-e2f5-9c14d265e452"
      },
      "outputs": [
        {
          "output_type": "execute_result",
          "data": {
            "text/plain": [
              "KMeans(n_clusters=4)"
            ]
          },
          "metadata": {},
          "execution_count": 47
        }
      ],
      "source": [
        "kmeans.fit(data[0])"
      ]
    },
    {
      "cell_type": "code",
      "execution_count": 48,
      "metadata": {
        "colab": {
          "base_uri": "https://localhost:8080/"
        },
        "id": "WgoP5heGibI1",
        "outputId": "e8aba9b1-90b0-45d5-d403-07854f08cd3d"
      },
      "outputs": [
        {
          "output_type": "execute_result",
          "data": {
            "text/plain": [
              "array([[-4.13591321,  7.95389851],\n",
              "       [-9.46941837, -6.56081545],\n",
              "       [ 3.71749226,  7.01388735],\n",
              "       [-0.0123077 ,  2.13407664]])"
            ]
          },
          "metadata": {},
          "execution_count": 48
        }
      ],
      "source": [
        "kmeans.cluster_centers_"
      ]
    },
    {
      "cell_type": "code",
      "execution_count": 49,
      "metadata": {
        "colab": {
          "base_uri": "https://localhost:8080/"
        },
        "id": "HSg0pVBIidye",
        "outputId": "f7452fa3-d410-495b-d249-b2338a55f74f"
      },
      "outputs": [
        {
          "output_type": "execute_result",
          "data": {
            "text/plain": [
              "array([0, 2, 3, 2, 2, 1, 2, 3, 2, 3, 0, 3, 2, 2, 0, 3, 2, 3, 1, 0, 1, 3,\n",
              "       3, 1, 0, 1, 1, 3, 2, 2, 0, 1, 2, 3, 3, 0, 1, 1, 1, 3, 1, 0, 0, 0,\n",
              "       3, 2, 0, 3, 1, 3, 3, 0, 2, 3, 1, 0, 3, 3, 0, 2, 1, 2, 1, 0, 2, 3,\n",
              "       1, 2, 2, 1, 2, 3, 1, 3, 1, 2, 2, 3, 0, 3, 3, 1, 2, 1, 3, 3, 3, 0,\n",
              "       3, 1, 1, 1, 1, 3, 3, 1, 2, 0, 1, 2, 3, 1, 3, 3, 2, 3, 1, 2, 1, 1,\n",
              "       2, 0, 0, 2, 1, 2, 0, 0, 2, 0, 3, 0, 3, 0, 3, 2, 0, 3, 1, 0, 0, 0,\n",
              "       3, 1, 1, 0, 2, 0, 2, 3, 1, 2, 1, 0, 0, 2, 3, 1, 0, 0, 0, 0, 3, 2,\n",
              "       3, 0, 2, 2, 2, 3, 2, 3, 3, 0, 1, 0, 3, 2, 0, 3, 2, 3, 0, 2, 3, 0,\n",
              "       2, 2, 1, 2, 0, 1, 1, 0, 1, 1, 1, 1, 1, 3, 1, 2, 2, 0, 1, 3, 2, 2,\n",
              "       1, 3], dtype=int32)"
            ]
          },
          "metadata": {},
          "execution_count": 49
        }
      ],
      "source": [
        "kmeans.labels_"
      ]
    },
    {
      "cell_type": "code",
      "execution_count": 50,
      "metadata": {
        "colab": {
          "base_uri": "https://localhost:8080/",
          "height": 407
        },
        "id": "FILuFaOpijjf",
        "outputId": "3c0d57f2-caab-46cf-fb48-fd70046e1d34"
      },
      "outputs": [
        {
          "output_type": "execute_result",
          "data": {
            "text/plain": [
              "<matplotlib.collections.PathCollection at 0x7f1e426a2f10>"
            ]
          },
          "metadata": {},
          "execution_count": 50
        },
        {
          "output_type": "display_data",
          "data": {
            "text/plain": [
              "<Figure size 720x432 with 2 Axes>"
            ],
            "image/png": "[encoded data removed]"
          },
          "metadata": {
            "needs_background": "light"
          }
        }
      ],
      "source": [
        "f, (ax1, ax2) = plt.subplots(1, 2, sharey=True,figsize=(10,6))\n",
        "ax1.set_title('K Means')\n",
        "ax1.scatter(data[0][:,0],data[0][:,1],c=kmeans.labels_,cmap='rainbow')\n",
        "ax2.set_title(\"Original\")\n",
        "ax2.scatter(data[0][:,0],data[0][:,1],c=data[1],cmap='rainbow')"
      ]
    },
    {
      "cell_type": "markdown",
      "metadata": {
        "id": "pJ6dg3B6j-6f"
      },
      "source": [
        "Now we check some scatter plots but with adding cluster.\n",
        "\n",
        "But yet we can see that clusters speration in power is stronger than mileage which almost have no separation of clusters\n",
        "\n",
        "Fuel tank capacity vs Cylinders"
      ]
    },
    {
      "cell_type": "code",
      "execution_count": 51,
      "metadata": {
        "colab": {
          "base_uri": "https://localhost:8080/",
          "height": 431
        },
        "id": "nE_t_oipj8_b",
        "outputId": "7e4124ff-646f-40ea-c596-c2951076a6ce"
      },
      "outputs": [
        {
          "output_type": "stream",
          "name": "stderr",
          "text": [
            "No handles with labels found to put in legend.\n"
          ]
        },
        {
          "output_type": "display_data",
          "data": {
            "text/plain": [
              "<Figure size 576x432 with 1 Axes>"
            ],
            "image/png": "[encoded data removed]"
          },
          "metadata": {
            "needs_background": "light"
          }
        }
      ],
      "source": [
        "plt.figure(figsize=(8,6))\n",
        "sns.scatterplot(data=df, x='Fuel_Tank_Capacity', y='Cylinders',s=120,palette='viridis')\n",
        "plt.legend(ncol=4)\n",
        "plt.title('Scatter plot of EngineSize and Cylinders with clusters', fontsize=18);\n",
        "plt.xlabel('Fuel_Tank_Capacity ',fontsize=16)\n",
        "plt.ylabel('Cylinders',fontsize=16);"
      ]
    },
    {
      "cell_type": "markdown",
      "metadata": {
        "id": "vgBTwJfTkVHa"
      },
      "source": [
        "Now we make an interactive 3D scatter plot of Price,power, and Fuel tank capacity using also clusters"
      ]
    },
    {
      "cell_type": "code",
      "execution_count": 52,
      "metadata": {
        "colab": {
          "base_uri": "https://localhost:8080/",
          "height": 717
        },
        "id": "zY0AmzrJkbL_",
        "outputId": "67fe4447-eca7-480b-e203-08175ad1b97b"
      },
      "outputs": [
        {
          "output_type": "display_data",
          "data": {
            "text/html": [
              "<html>\n",
              "<head><meta charset=\"utf-8\" /></head>\n",
              "<body>\n",
              "    <div>            <script src=\"https://cdnjs.cloudflare.com/ajax/libs/mathjax/2.7.5/MathJax.js?config=TeX-AMS-MML_SVG\"></script><script type=\"text/javascript\">if (window.MathJax) {MathJax.Hub.Config({SVG: {font: \"STIX-Web\"}});}</script>                <script type=\"text/javascript\">window.PlotlyConfig = {MathJaxConfig: 'local'};</script>\n",
              "        <script src=\"https://cdn.plot.ly/plotly-2.8.3.min.js\"></script>                <div id=\"6b827e99-081d-4070-80c7-9785f79a5bd6\" class=\"plotly-graph-div\" style=\"height:700px; width:800px;\"></div>            <script type=\"text/javascript\">                                    window.PLOTLYENV=window.PLOTLYENV || {};                                    if (document.getElementById(\"6b827e99-081d-4070-80c7-9785f79a5bd6\")) {                    Plotly.newPlot(                        \"6b827e99-081d-4070-80c7-9785f79a5bd6\",                        [{\"hovertemplate\":\"Power=%{x}<br>Fuel_Tank_Capacity=%{y}<br>Price=%{z}<extra></extra>\",\"legendgroup\":\"\",\"marker\":{\"color\":\"#0173b2\",\"symbol\":\"circle\"},\"mode\":\"markers\",\"name\":\"\",\"scene\":\"scene\",\"showlegend\":false,\"x\":[38.0,38.0,38.0,38.0,38.0,54.0,54.0,54.0,54.0,54.0,54.0,54.0,54.0,68.0,68.0,68.0,68.0,68.0,68.0,68.0,68.0,73.0,74.0,73.0,68.0,68.0,68.0,68.0,68.0,68.0,68.0,68.0,68.0,78.0,68.0,86.0,86.0,86.0,86.0,86.0,86.0,86.0,68.0,68.0,68.0,68.0,68.0,68.0,68.0,68.0,83.0,83.0,83.0,83.0,83.0,83.0,83.0,76.6,64.0,76.6,64.0,64.0,72.0,80.0,80.0,68.0,80.0,68.0,68.0,80.0,68.0,80.0,68.0,80.0,68.0,80.0,68.0,68.0,75.0,75.0,75.0,75.0,90.0,90.0,90.0,90.0,75.0,83.0,84.0,90.0,84.0,90.0,84.0,90.0,84.0,90.0,83.0,84.0,84.0,90.0,76.0,76.0,76.0,90.0,90.0,90.0,105.0,110.0,84.3,84.3,75.0,84.3,75.0,84.3,75.0,75.0,84.3,84.3,84.3,75.0,75.0,75.0,90.0,90.0,68.0,68.0,68.0,90.0,90.0,68.0,68.0,90.0,90.0,80.0,68.0,68.0,80.0,68.0,65.0,65.0,65.0,93.0,93.0,140.0,93.0,93.0,93.0,93.0,90.0,90.0,90.0,90.0,100.0,100.0,100.0,177.0,177.0,180.0,177.0,143.0,143.0,150.0,150.0,177.0,148.0,177.0,250.0,148.0,177.0,177.0,150.0,247.0,247.0,180.0,180.0,180.0,148.0,190.0,248.0,190.0,401.0,240.0,240.0,468.0,410.0,300.0,300.0,173.0,262.0,265.0,265.0,265.0,275.0,350.0,430.0,460.0,275.0,550.0,550.0,550.0,610.0,590.0,560.0,608.0,605.0,512.0,68.0,68.0,68.0,68.0,68.0,68.0,68.0,68.0,68.0,68.0,83.0,83.0,82.0,82.0,77.0,77.0,77.0,82.0,82.0,77.0,82.0,77.0,82.0,77.0,82.0,82.0,82.0,77.0,77.0,77.0,77.0,77.0,82.0,82.0,83.0,86.0,86.0,86.0,86.0,86.0,86.0,90.0,75.0,90.0,90.0,90.0,75.0,75.0,90.0,75.0,90.0,75.0,80.0,80.0,114.0,93.0,93.0,93.0,114.0,70.0,70.0,70.0,70.0,63.9,90.0,90.0,90.0,90.0,90.0,90.0,90.0,90.0,90.0,83.0,83.0,83.0,90.0,106.0,106.0,106.0,85.0,85.0,110.0,110.0,110.0,110.0,128.0,128.0,128.0,128.0,85.0,85.0,110.0,110.0,85.0,85.0,85.0,105.0,110.0,105.0,119.0,119.0,119.0,119.0,119.0,100.0,100.0,100.0,85.0,85.0,85.0,85.0,120.0,120.0,120.0,75.0,121.0,121.0,120.0,120.0,140.0,140.0,140.0,140.0,110.0,105.0,110.0,105.0,155.0,155.0,155.0,155.0,155.0,155.0,155.0,155.0,155.0,155.0,155.0,156.0,156.0,150.0,156.0,150.0,150.0,150.0,150.0,150.0,166.0,166.0,164.0,150.0,174.0,174.0,150.0,166.0,166.0,150.0,150.0,140.0,140.0,140.0,88.4,88.4,140.0,180.0,180.0,180.0,177.0,177.0,180.0,177.0,150.0,150.0,177.0,177.0,177.0,177.0,166.0,166.0,177.0,200.0,160.0,160.0,190.0,190.0,190.0,192.0,190.0,190.0,190.0,233.0,268.0,249.0,249.0,249.0,250.0,225.0,225.0,235.0,335.0,274.0,274.0,302.0,265.0,560.0,518.0,558.0,335.0,558.0,335.0,450.0,610.0,580.0,610.0,639.0,571.0,602.0,631.0,610.0,670.0,670.0,700.0,700.0,740.0,34.7,34.7,68.0,100.0,75.0,75.0,75.0,75.0,83.0,83.0,83.0,83.0,83.0,83.0,83.0,83.0,83.0,83.0,83.0,83.0,83.0,83.0,76.0,90.0,76.0,99.0,99.0,86.0,86.0,86.0,101.0,86.0,102.0,90.0,100.0,90.0,100.0,90.0,90.0,84.0,84.0,84.0,100.0,100.0,100.0,100.0,90.0,90.0,90.0,90.0,95.0,95.0,120.0,120.0,121.0,85.0,110.0,104.0,85.0,110.0,85.0,150.0,150.0,156.0,156.0,152.0,152.0,152.0,152.0,185.0,155.0,185.0,155.0,185.0,155.0,155.0,185.0,150.0,180.0,98.0,180.0,235.0,431.0,450.0,450.0,570.0,505.0,560.0,48.0,48.0,75.0,83.0,82.0,82.0,75.0,72.0,64.0,63.0,63.0,63.0,63.0,63.0,89.0,89.0,89.0,89.0,103.0,94.0,94.0,94.0,105.0,110.0,105.0,110.0,110.0,105.0,110.0,110.0,105.0,105.0,105.0,105.0,110.0,110.0,90.0,123.0,123.0,123.0,123.0,123.0,90.0,128.0,128.0,128.0,128.0,128.0,121.0,126.0,90.0,123.0,123.0,145.0,190.0,258.0,252.0,550.0,669.0,100.0,100.0,100.0,100.0,100.0,68.0,76.0,76.0,76.0,65.0,65.0,120.0,178.0,178.0,178.0,178.0,178.0,507.0,616.0,119.0,119.0,119.0,119.0,100.0,100.0,100.0,100.0,119.0,119.0,202.0],\"y\":[24.0,24.0,24.0,24.0,24.0,28.0,28.0,28.0,28.0,28.0,28.0,28.0,28.0,28.0,28.0,28.0,28.0,28.0,28.0,28.0,28.0,40.0,40.0,40.0,35.0,35.0,35.0,35.0,35.0,35.0,35.0,35.0,35.0,35.0,35.0,35.0,35.0,35.0,35.0,35.0,35.0,35.0,35.0,35.0,35.0,35.0,35.0,35.0,35.0,35.0,32.0,32.0,32.0,32.0,32.0,32.0,32.0,46.0,46.0,46.0,46.0,46.0,46.0,45.0,45.0,45.0,45.0,45.0,45.0,45.0,45.0,45.0,45.0,45.0,45.0,45.0,45.0,41.0,44.0,44.0,44.0,44.0,44.0,44.0,44.0,44.0,42.0,42.0,45.0,45.0,45.0,45.0,45.0,45.0,45.0,45.0,45.0,45.0,45.0,45.0,45.0,45.0,45.0,45.0,45.0,45.0,45.0,45.0,37.0,37.0,37.0,37.0,37.0,37.0,37.0,37.0,37.0,37.0,37.0,37.0,37.0,37.0,45.0,45.0,45.0,45.0,45.0,45.0,45.0,45.0,45.0,45.0,45.0,45.0,45.0,45.0,45.0,45.0,50.0,50.0,50.0,45.0,45.0,45.0,45.0,45.0,45.0,45.0,40.0,40.0,40.0,40.0,40.0,40.0,40.0,76.0,76.0,66.0,66.0,50.0,50.0,50.0,50.0,66.0,66.0,66.0,60.0,64.0,64.0,64.0,64.0,74.0,82.0,83.0,66.0,66.0,50.0,67.0,67.0,67.0,60.0,93.0,93.0,93.0,52.0,54.0,54.0,87.0,65.0,78.0,78.0,78.0,80.0,80.0,80.0,86.0,70.0,90.0,90.0,90.0,75.0,90.0,92.0,85.0,86.0,90.0,35.0,35.0,35.0,35.0,35.0,35.0,35.0,35.0,35.0,35.0,43.0,43.0,35.0,35.0,35.0,35.0,35.0,35.0,35.0,35.0,35.0,35.0,35.0,35.0,35.0,35.0,35.0,35.0,35.0,35.0,35.0,35.0,35.0,35.0,37.0,35.0,35.0,35.0,35.0,35.0,35.0,44.0,44.0,44.0,44.0,44.0,44.0,44.0,44.0,44.0,44.0,44.0,40.0,40.0,45.0,45.0,45.0,45.0,45.0,60.0,60.0,60.0,60.0,60.0,48.0,48.0,48.0,48.0,48.0,48.0,48.0,48.0,48.0,40.0,40.0,40.0,40.0,50.0,50.0,50.0,50.0,50.0,50.0,50.0,50.0,50.0,45.0,45.0,45.0,45.0,50.0,50.0,50.0,50.0,50.0,50.0,50.0,55.0,45.0,45.0,42.0,42.0,42.0,42.0,42.0,42.0,42.0,42.0,63.0,63.0,63.0,63.0,60.0,60.0,60.0,60.0,80.0,80.0,60.0,60.0,60.0,60.0,60.0,60.0,55.0,55.0,55.0,55.0,70.0,70.0,70.0,70.0,70.0,70.0,70.0,70.0,70.0,70.0,70.0,60.0,60.0,60.0,60.0,55.0,55.0,55.0,55.0,55.0,55.0,55.0,55.0,55.0,55.0,55.0,55.0,55.0,55.0,55.0,55.0,55.0,55.0,55.0,43.0,43.0,55.0,66.0,66.0,66.0,66.0,66.0,66.0,66.0,60.0,60.0,80.0,80.0,80.0,80.0,80.0,80.0,80.0,80.0,80.0,80.0,51.0,51.0,51.0,51.0,67.0,64.0,64.0,70.0,85.0,75.0,75.0,75.0,65.0,68.0,68.0,68.0,105.0,82.0,83.0,82.0,93.0,75.0,105.0,105.0,85.0,65.0,85.0,75.0,90.0,90.0,90.0,90.0,90.0,90.0,90.0,90.0,78.0,78.0,90.0,90.0,90.0,35.0,36.0,45.0,40.0,37.0,37.0,37.0,37.0,37.0,37.0,37.0,37.0,37.0,37.0,37.0,37.0,37.0,43.0,43.0,43.0,43.0,43.0,45.0,45.0,45.0,41.0,41.0,41.0,41.0,41.0,41.0,41.0,37.0,40.0,40.0,40.0,40.0,40.0,40.0,60.0,60.0,60.0,60.0,60.0,60.0,60.0,48.0,48.0,48.0,48.0,55.0,55.0,55.0,55.0,55.0,50.0,50.0,50.0,50.0,50.0,50.0,63.0,63.0,63.0,63.0,50.0,50.0,50.0,50.0,62.0,62.0,62.0,62.0,62.0,62.0,62.0,62.0,60.0,50.0,43.0,60.0,60.0,60.0,64.0,64.0,74.0,73.0,90.0,35.0,35.0,37.0,43.0,43.0,43.0,43.0,43.0,41.0,60.0,60.0,60.0,60.0,60.0,43.0,43.0,43.0,43.0,43.0,43.0,43.0,43.0,55.0,55.0,55.0,55.0,55.0,55.0,55.0,55.0,55.0,55.0,55.0,55.0,55.0,55.0,55.0,55.0,55.0,55.0,55.0,55.0,55.0,55.0,55.0,55.0,55.0,55.0,55.0,55.0,55.0,55.0,55.0,60.0,70.0,70.0,70.0,72.0,86.0,60.0,60.0,60.0,60.0,60.0,45.0,45.0,45.0,45.0,50.0,50.0,50.0,70.0,70.0,70.0,70.0,70.0,90.0,90.0,40.0,40.0,40.0,40.0,40.0,40.0,40.0,40.0,40.0,40.0,88.0],\"z\":[292667,236447,334768,272223,314815,279650,351832,333419,362000,353290,283290,383290,413290,433290,454490,463290,484490,440990,470990,462190,492190,352136,380573,392967,377588,394036,360843,407238,438559,502492,499990,469990,553015,618015,422444,520000,570000,599000,610000,620000,649000,660000,481074,475198,518198,524074,499734,540350,542735,552350,713898,666898,607841,560841,483320,630320,583320,506000,568623,670000,603000,739000,739000,520300,581000,647800,630000,745000,704000,597700,720700,641700,756700,558400,686000,662700,777700,599950,787980,661111,693798,719661,674960,529035,590268,614515,653523,553423,559693,697803,634950,770803,721693,876103,808993,934003,920993,751693,831693,846103,582000,676500,776500,734500,851500,931500,976000,988500,582613,673112,666622,732113,757622,720112,863122,816622,821613,779113,868613,906122,804622,952622,627100,718600,734700,828600,888400,778400,689600,799600,913400,803400,802000,650000,797500,766000,668500,816000,657628,685729,750428,677618,739074,977516,810211,796132,711801,876341,745000,909000,789000,865000,816500,896500,940500,2734834,2931534,2899599,3149599,3021200,3221200,2920750,3120750,3299599,3678599,3299599,3407407,3677200,3992200,4361000,3496750,5436329,6073446,6138811,5506622,4977080,5038000,5930000,5880000,5600000,7462000,7882867,8931819,11400000,8180000,8995000,8595000,9630000,9900000,12290000,13200000,13510000,14512054,14863774,15383399,17229579,17900000,21263000,22613000,21747000,27245000,33791059,35000000,45941557,42531500,52571294,426289,465138,508138,490924,531279,533924,434659,472257,515257,543279,460369,477511,488194,532184,590798,619243,667273,579645,631144,754548,693550,787304,701045,794800,573250,631146,687175,660832,748128,780884,550155,559741,524312,542913,519000,575000,610000,650000,699000,660000,749000,582287,702946,653926,672641,732475,767317,793898,855362,836320,989000,788797,637343,622730,715860,862175,932025,991434,997763,886398,851302,785656,749192,819117,762742,814742,892243,987743,1003552,1037742,864742,942243,1059742,774035,858536,882298,993393,799990,919990,999990,929990,999990,1119990,1209990,1249990,1249990,1172544,1301881,1328545,1407871,863299,964199,1211599,1211599,1053899,1130099,964199,876500,1449500,1317500,952900,1052900,1167900,1271900,1285900,1187900,1273900,1382900,999000,1075000,975000,1225000,992748,1029650,1142157,999994,1236258,1123158,1220030,1330006,1360668,1540081,1663054,1423710,1425599,1269599,1299599,1139599,1418313,1539488,1588943,1710118,1716319,1837586,1741319,1862586,1852488,1973664,1230924,1639374,1912593,1371864,1531377,1605000,1927000,1610000,1932000,2113000,1620000,1615000,2103000,1807000,1493000,1498000,2097000,1892000,2171000,1592000,1587000,1645000,1806000,1882000,1936000,1771000,2019000,2599599,2779599,3099599,3349599,3029599,2599599,2849599,2769000,3191000,3205000,3019000,3216000,3395000,2977000,2818000,3420000,3470000,3233000,2920000,3520000,3930000,4570000,3830000,4426500,5021200,5621200,5990000,6394000,7221500,8021500,8111500,7246802,8790000,8090000,8491500,14908985,9738609,10725145,11129599,14699000,17072000,26037526,32522000,19527130,40499548,21398758,19865675,37133704,32452486,35150732,37614126,35535000,40742932,37300000,32200000,36761413,39319552,47893943,53210327,47467700,282778,284485,482330,623000,746621,868221,668611,807921,758212,890212,636612,768612,558602,697912,733412,789912,829912,586428,620637,652328,705538,640537,751203,646336,808558,707025,836461,912534,993997,860997,993997,877285,788913,925000,925000,815000,916050,808050,935050,854328,914328,976592,999614,1031943,1022930,1055259,880689,992689,1043689,1143689,963037,1004487,1031951,1066139,1228335,999900,1464900,999900,1235700,1419900,1235700,1109005,1335158,1479574,1643829,1589000,1849000,1949000,2039000,2079717,1876656,2364354,2187384,2697417,2373522,2246749,2423720,3283000,2962000,4509000,6463780,6531000,13590000,17420000,18844000,21240272,29500000,38845823,354235,356559,675090,643769,733734,705546,798558,875358,812964,942263,917055,860720,815883,773678,1102689,919689,980689,1062689,958689,1138189,997689,1109189,998599,1006139,881916,1129599,1249599,1243599,1399599,1273599,1115599,999599,975599,1099599,1158599,1273599,999990,999990,1232534,1394437,1377363,1287041,1197919,1366797,1543564,1527395,1421208,1336033,1422937,1572064,1107167,1092192,1279983,4321237,5930000,6680000,5980000,22155390,43367500,797802,905642,984818,972359,1048603,535562,631292,692655,747774,748370,772617,845154,2903750,2835500,2953240,2992800,2952500,34167064,39382083,991000,1065900,1182000,1312000,1111000,1191000,1302000,1421000,1431000,1201000,6862560],\"type\":\"scatter3d\"}],                        {\"template\":{\"data\":{\"bar\":[{\"error_x\":{\"color\":\"#2a3f5f\"},\"error_y\":{\"color\":\"#2a3f5f\"},\"marker\":{\"line\":{\"color\":\"#E5ECF6\",\"width\":0.5},\"pattern\":{\"fillmode\":\"overlay\",\"size\":10,\"solidity\":0.2}},\"type\":\"bar\"}],\"barpolar\":[{\"marker\":{\"line\":{\"color\":\"#E5ECF6\",\"width\":0.5},\"pattern\":{\"fillmode\":\"overlay\",\"size\":10,\"solidity\":0.2}},\"type\":\"barpolar\"}],\"carpet\":[{\"aaxis\":{\"endlinecolor\":\"#2a3f5f\",\"gridcolor\":\"white\",\"linecolor\":\"white\",\"minorgridcolor\":\"white\",\"startlinecolor\":\"#2a3f5f\"},\"baxis\":{\"endlinecolor\":\"#2a3f5f\",\"gridcolor\":\"white\",\"linecolor\":\"white\",\"minorgridcolor\":\"white\",\"startlinecolor\":\"#2a3f5f\"},\"type\":\"carpet\"}],\"choropleth\":[{\"colorbar\":{\"outlinewidth\":0,\"ticks\":\"\"},\"type\":\"choropleth\"}],\"contour\":[{\"colorbar\":{\"outlinewidth\":0,\"ticks\":\"\"},\"colorscale\":[[0.0,\"#0d0887\"],[0.1111111111111111,\"#46039f\"],[0.2222222222222222,\"#7201a8\"],[0.3333333333333333,\"#9c179e\"],[0.4444444444444444,\"#bd3786\"],[0.5555555555555556,\"#d8576b\"],[0.6666666666666666,\"#ed7953\"],[0.7777777777777778,\"#fb9f3a\"],[0.8888888888888888,\"#fdca26\"],[1.0,\"#f0f921\"]],\"type\":\"contour\"}],\"contourcarpet\":[{\"colorbar\":{\"outlinewidth\":0,\"ticks\":\"\"},\"type\":\"contourcarpet\"}],\"heatmap\":[{\"colorbar\":{\"outlinewidth\":0,\"ticks\":\"\"},\"colorscale\":[[0.0,\"#0d0887\"],[0.1111111111111111,\"#46039f\"],[0.2222222222222222,\"#7201a8\"],[0.3333333333333333,\"#9c179e\"],[0.4444444444444444,\"#bd3786\"],[0.5555555555555556,\"#d8576b\"],[0.6666666666666666,\"#ed7953\"],[0.7777777777777778,\"#fb9f3a\"],[0.8888888888888888,\"#fdca26\"],[1.0,\"#f0f921\"]],\"type\":\"heatmap\"}],\"heatmapgl\":[{\"colorbar\":{\"outlinewidth\":0,\"ticks\":\"\"},\"colorscale\":[[0.0,\"#0d0887\"],[0.1111111111111111,\"#46039f\"],[0.2222222222222222,\"#7201a8\"],[0.3333333333333333,\"#9c179e\"],[0.4444444444444444,\"#bd3786\"],[0.5555555555555556,\"#d8576b\"],[0.6666666666666666,\"#ed7953\"],[0.7777777777777778,\"#fb9f3a\"],[0.8888888888888888,\"#fdca26\"],[1.0,\"#f0f921\"]],\"type\":\"heatmapgl\"}],\"histogram\":[{\"marker\":{\"pattern\":{\"fillmode\":\"overlay\",\"size\":10,\"solidity\":0.2}},\"type\":\"histogram\"}],\"histogram2d\":[{\"colorbar\":{\"outlinewidth\":0,\"ticks\":\"\"},\"colorscale\":[[0.0,\"#0d0887\"],[0.1111111111111111,\"#46039f\"],[0.2222222222222222,\"#7201a8\"],[0.3333333333333333,\"#9c179e\"],[0.4444444444444444,\"#bd3786\"],[0.5555555555555556,\"#d8576b\"],[0.6666666666666666,\"#ed7953\"],[0.7777777777777778,\"#fb9f3a\"],[0.8888888888888888,\"#fdca26\"],[1.0,\"#f0f921\"]],\"type\":\"histogram2d\"}],\"histogram2dcontour\":[{\"colorbar\":{\"outlinewidth\":0,\"ticks\":\"\"},\"colorscale\":[[0.0,\"#0d0887\"],[0.1111111111111111,\"#46039f\"],[0.2222222222222222,\"#7201a8\"],[0.3333333333333333,\"#9c179e\"],[0.4444444444444444,\"#bd3786\"],[0.5555555555555556,\"#d8576b\"],[0.6666666666666666,\"#ed7953\"],[0.7777777777777778,\"#fb9f3a\"],[0.8888888888888888,\"#fdca26\"],[1.0,\"#f0f921\"]],\"type\":\"histogram2dcontour\"}],\"mesh3d\":[{\"colorbar\":{\"outlinewidth\":0,\"ticks\":\"\"},\"type\":\"mesh3d\"}],\"parcoords\":[{\"line\":{\"colorbar\":{\"outlinewidth\":0,\"ticks\":\"\"}},\"type\":\"parcoords\"}],\"pie\":[{\"automargin\":true,\"type\":\"pie\"}],\"scatter\":[{\"marker\":{\"colorbar\":{\"outlinewidth\":0,\"ticks\":\"\"}},\"type\":\"scatter\"}],\"scatter3d\":[{\"line\":{\"colorbar\":{\"outlinewidth\":0,\"ticks\":\"\"}},\"marker\":{\"colorbar\":{\"outlinewidth\":0,\"ticks\":\"\"}},\"type\":\"scatter3d\"}],\"scattercarpet\":[{\"marker\":{\"colorbar\":{\"outlinewidth\":0,\"ticks\":\"\"}},\"type\":\"scattercarpet\"}],\"scattergeo\":[{\"marker\":{\"colorbar\":{\"outlinewidth\":0,\"ticks\":\"\"}},\"type\":\"scattergeo\"}],\"scattergl\":[{\"marker\":{\"colorbar\":{\"outlinewidth\":0,\"ticks\":\"\"}},\"type\":\"scattergl\"}],\"scattermapbox\":[{\"marker\":{\"colorbar\":{\"outlinewidth\":0,\"ticks\":\"\"}},\"type\":\"scattermapbox\"}],\"scatterpolar\":[{\"marker\":{\"colorbar\":{\"outlinewidth\":0,\"ticks\":\"\"}},\"type\":\"scatterpolar\"}],\"scatterpolargl\":[{\"marker\":{\"colorbar\":{\"outlinewidth\":0,\"ticks\":\"\"}},\"type\":\"scatterpolargl\"}],\"scatterternary\":[{\"marker\":{\"colorbar\":{\"outlinewidth\":0,\"ticks\":\"\"}},\"type\":\"scatterternary\"}],\"surface\":[{\"colorbar\":{\"outlinewidth\":0,\"ticks\":\"\"},\"colorscale\":[[0.0,\"#0d0887\"],[0.1111111111111111,\"#46039f\"],[0.2222222222222222,\"#7201a8\"],[0.3333333333333333,\"#9c179e\"],[0.4444444444444444,\"#bd3786\"],[0.5555555555555556,\"#d8576b\"],[0.6666666666666666,\"#ed7953\"],[0.7777777777777778,\"#fb9f3a\"],[0.8888888888888888,\"#fdca26\"],[1.0,\"#f0f921\"]],\"type\":\"surface\"}],\"table\":[{\"cells\":{\"fill\":{\"color\":\"#EBF0F8\"},\"line\":{\"color\":\"white\"}},\"header\":{\"fill\":{\"color\":\"#C8D4E3\"},\"line\":{\"color\":\"white\"}},\"type\":\"table\"}]},\"layout\":{\"annotationdefaults\":{\"arrowcolor\":\"#2a3f5f\",\"arrowhead\":0,\"arrowwidth\":1},\"autotypenumbers\":\"strict\",\"coloraxis\":{\"colorbar\":{\"outlinewidth\":0,\"ticks\":\"\"}},\"colorscale\":{\"diverging\":[[0,\"#8e0152\"],[0.1,\"#c51b7d\"],[0.2,\"#de77ae\"],[0.3,\"#f1b6da\"],[0.4,\"#fde0ef\"],[0.5,\"#f7f7f7\"],[0.6,\"#e6f5d0\"],[0.7,\"#b8e186\"],[0.8,\"#7fbc41\"],[0.9,\"#4d9221\"],[1,\"#276419\"]],\"sequential\":[[0.0,\"#0d0887\"],[0.1111111111111111,\"#46039f\"],[0.2222222222222222,\"#7201a8\"],[0.3333333333333333,\"#9c179e\"],[0.4444444444444444,\"#bd3786\"],[0.5555555555555556,\"#d8576b\"],[0.6666666666666666,\"#ed7953\"],[0.7777777777777778,\"#fb9f3a\"],[0.8888888888888888,\"#fdca26\"],[1.0,\"#f0f921\"]],\"sequentialminus\":[[0.0,\"#0d0887\"],[0.1111111111111111,\"#46039f\"],[0.2222222222222222,\"#7201a8\"],[0.3333333333333333,\"#9c179e\"],[0.4444444444444444,\"#bd3786\"],[0.5555555555555556,\"#d8576b\"],[0.6666666666666666,\"#ed7953\"],[0.7777777777777778,\"#fb9f3a\"],[0.8888888888888888,\"#fdca26\"],[1.0,\"#f0f921\"]]},\"colorway\":[\"#636efa\",\"#EF553B\",\"#00cc96\",\"#ab63fa\",\"#FFA15A\",\"#19d3f3\",\"#FF6692\",\"#B6E880\",\"#FF97FF\",\"#FECB52\"],\"font\":{\"color\":\"#2a3f5f\"},\"geo\":{\"bgcolor\":\"white\",\"lakecolor\":\"white\",\"landcolor\":\"#E5ECF6\",\"showlakes\":true,\"showland\":true,\"subunitcolor\":\"white\"},\"hoverlabel\":{\"align\":\"left\"},\"hovermode\":\"closest\",\"mapbox\":{\"style\":\"light\"},\"paper_bgcolor\":\"white\",\"plot_bgcolor\":\"#E5ECF6\",\"polar\":{\"angularaxis\":{\"gridcolor\":\"white\",\"linecolor\":\"white\",\"ticks\":\"\"},\"bgcolor\":\"#E5ECF6\",\"radialaxis\":{\"gridcolor\":\"white\",\"linecolor\":\"white\",\"ticks\":\"\"}},\"scene\":{\"xaxis\":{\"backgroundcolor\":\"#E5ECF6\",\"gridcolor\":\"white\",\"gridwidth\":2,\"linecolor\":\"white\",\"showbackground\":true,\"ticks\":\"\",\"zerolinecolor\":\"white\"},\"yaxis\":{\"backgroundcolor\":\"#E5ECF6\",\"gridcolor\":\"white\",\"gridwidth\":2,\"linecolor\":\"white\",\"showbackground\":true,\"ticks\":\"\",\"zerolinecolor\":\"white\"},\"zaxis\":{\"backgroundcolor\":\"#E5ECF6\",\"gridcolor\":\"white\",\"gridwidth\":2,\"linecolor\":\"white\",\"showbackground\":true,\"ticks\":\"\",\"zerolinecolor\":\"white\"}},\"shapedefaults\":{\"line\":{\"color\":\"#2a3f5f\"}},\"ternary\":{\"aaxis\":{\"gridcolor\":\"white\",\"linecolor\":\"white\",\"ticks\":\"\"},\"baxis\":{\"gridcolor\":\"white\",\"linecolor\":\"white\",\"ticks\":\"\"},\"bgcolor\":\"#E5ECF6\",\"caxis\":{\"gridcolor\":\"white\",\"linecolor\":\"white\",\"ticks\":\"\"}},\"title\":{\"x\":0.05},\"xaxis\":{\"automargin\":true,\"gridcolor\":\"white\",\"linecolor\":\"white\",\"ticks\":\"\",\"title\":{\"standoff\":15},\"zerolinecolor\":\"white\",\"zerolinewidth\":2},\"yaxis\":{\"automargin\":true,\"gridcolor\":\"white\",\"linecolor\":\"white\",\"ticks\":\"\",\"title\":{\"standoff\":15},\"zerolinecolor\":\"white\",\"zerolinewidth\":2}}},\"scene\":{\"domain\":{\"x\":[0.0,1.0],\"y\":[0.0,1.0]},\"xaxis\":{\"title\":{\"text\":\"Power\"}},\"yaxis\":{\"title\":{\"text\":\"Fuel_Tank_Capacity\"}},\"zaxis\":{\"title\":{\"text\":\"Price\"}}},\"legend\":{\"tracegroupgap\":0},\"title\":{\"text\":\"Price Power, and Fuel_Tank_Capacity\"},\"height\":700,\"width\":800},                        {\"responsive\": true}                    ).then(function(){\n",
              "                            \n",
              "var gd = document.getElementById('6b827e99-081d-4070-80c7-9785f79a5bd6');\n",
              "var x = new MutationObserver(function (mutations, observer) {{\n",
              "        var display = window.getComputedStyle(gd).display;\n",
              "        if (!display || display === 'none') {{\n",
              "            console.log([gd, 'removed!']);\n",
              "            Plotly.purge(gd);\n",
              "            observer.disconnect();\n",
              "        }}\n",
              "}});\n",
              "\n",
              "// Listen for the removal of the full notebook cells\n",
              "var notebookContainer = gd.closest('#notebook-container');\n",
              "if (notebookContainer) {{\n",
              "    x.observe(notebookContainer, {childList: true});\n",
              "}}\n",
              "\n",
              "// Listen for the clearing of the current output cell\n",
              "var outputEl = gd.closest('.output');\n",
              "if (outputEl) {{\n",
              "    x.observe(outputEl, {childList: true});\n",
              "}}\n",
              "\n",
              "                        })                };                            </script>        </div>\n",
              "</body>\n",
              "</html>"
            ]
          },
          "metadata": {}
        }
      ],
      "source": [
        "fig = px.scatter_3d(df, x='Power', z='Price', y='Fuel_Tank_Capacity',\n",
        "                    height=700, width=800,color_discrete_sequence=sns.color_palette('colorblind',n_colors=8,desat=1).as_hex(),\n",
        "                   title='Price Power, and Fuel_Tank_Capacity')\n",
        "fig.show()"
      ]
    }
  ]
}